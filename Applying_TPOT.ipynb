{
  "cells": [
    {
      "cell_type": "code",
      "execution_count": null,
      "metadata": {
        "id": "PVNmu5Fd37Ew"
      },
      "outputs": [],
      "source": [
        "from tpot import TPOTClassifier\n",
        "import pandas as pd\n",
        "import numpy as np\n",
        "from sklearn.preprocessing import MinMaxScaler"
      ]
    },
    {
      "cell_type": "code",
      "execution_count": null,
      "metadata": {
        "id": "FE-YesVv37E8"
      },
      "outputs": [],
      "source": [
        "# importing data\n",
        "train_df = pd.read_csv(\"train.csv\")"
      ]
    },
    {
      "cell_type": "code",
      "execution_count": null,
      "metadata": {
        "id": "2FYBuqMW37E9",
        "outputId": "2e58492a-528e-4c38-c546-e76220cc8347"
      },
      "outputs": [
        {
          "data": {
            "text/html": [
              "<div>\n",
              "<style scoped>\n",
              "    .dataframe tbody tr th:only-of-type {\n",
              "        vertical-align: middle;\n",
              "    }\n",
              "\n",
              "    .dataframe tbody tr th {\n",
              "        vertical-align: top;\n",
              "    }\n",
              "\n",
              "    .dataframe thead th {\n",
              "        text-align: right;\n",
              "    }\n",
              "</style>\n",
              "<table border=\"1\" class=\"dataframe\">\n",
              "  <thead>\n",
              "    <tr style=\"text-align: right;\">\n",
              "      <th></th>\n",
              "      <th>id</th>\n",
              "      <th>A</th>\n",
              "      <th>B</th>\n",
              "      <th>C</th>\n",
              "      <th>D</th>\n",
              "      <th>E</th>\n",
              "      <th>F</th>\n",
              "      <th>G</th>\n",
              "      <th>H</th>\n",
              "      <th>I</th>\n",
              "      <th>J</th>\n",
              "      <th>K</th>\n",
              "      <th>L</th>\n",
              "      <th>M</th>\n",
              "      <th>N</th>\n",
              "      <th>O</th>\n",
              "      <th>P</th>\n",
              "    </tr>\n",
              "  </thead>\n",
              "  <tbody>\n",
              "    <tr>\n",
              "      <th>0</th>\n",
              "      <td>1</td>\n",
              "      <td>b</td>\n",
              "      <td>18.42</td>\n",
              "      <td>10.415</td>\n",
              "      <td>y</td>\n",
              "      <td>p</td>\n",
              "      <td>aa</td>\n",
              "      <td>v</td>\n",
              "      <td>0.125</td>\n",
              "      <td>t</td>\n",
              "      <td>f</td>\n",
              "      <td>0</td>\n",
              "      <td>f</td>\n",
              "      <td>g</td>\n",
              "      <td>120.0</td>\n",
              "      <td>375</td>\n",
              "      <td>1</td>\n",
              "    </tr>\n",
              "    <tr>\n",
              "      <th>1</th>\n",
              "      <td>2</td>\n",
              "      <td>a</td>\n",
              "      <td>21.75</td>\n",
              "      <td>11.750</td>\n",
              "      <td>u</td>\n",
              "      <td>g</td>\n",
              "      <td>c</td>\n",
              "      <td>v</td>\n",
              "      <td>0.250</td>\n",
              "      <td>f</td>\n",
              "      <td>f</td>\n",
              "      <td>0</td>\n",
              "      <td>t</td>\n",
              "      <td>g</td>\n",
              "      <td>180.0</td>\n",
              "      <td>0</td>\n",
              "      <td>1</td>\n",
              "    </tr>\n",
              "    <tr>\n",
              "      <th>2</th>\n",
              "      <td>3</td>\n",
              "      <td>b</td>\n",
              "      <td>30.17</td>\n",
              "      <td>1.085</td>\n",
              "      <td>y</td>\n",
              "      <td>p</td>\n",
              "      <td>c</td>\n",
              "      <td>v</td>\n",
              "      <td>0.040</td>\n",
              "      <td>f</td>\n",
              "      <td>f</td>\n",
              "      <td>0</td>\n",
              "      <td>f</td>\n",
              "      <td>g</td>\n",
              "      <td>170.0</td>\n",
              "      <td>179</td>\n",
              "      <td>1</td>\n",
              "    </tr>\n",
              "    <tr>\n",
              "      <th>3</th>\n",
              "      <td>4</td>\n",
              "      <td>b</td>\n",
              "      <td>22.67</td>\n",
              "      <td>2.540</td>\n",
              "      <td>y</td>\n",
              "      <td>p</td>\n",
              "      <td>c</td>\n",
              "      <td>h</td>\n",
              "      <td>2.585</td>\n",
              "      <td>t</td>\n",
              "      <td>f</td>\n",
              "      <td>0</td>\n",
              "      <td>f</td>\n",
              "      <td>g</td>\n",
              "      <td>0.0</td>\n",
              "      <td>0</td>\n",
              "      <td>0</td>\n",
              "    </tr>\n",
              "    <tr>\n",
              "      <th>4</th>\n",
              "      <td>5</td>\n",
              "      <td>a</td>\n",
              "      <td>36.00</td>\n",
              "      <td>1.000</td>\n",
              "      <td>u</td>\n",
              "      <td>g</td>\n",
              "      <td>c</td>\n",
              "      <td>v</td>\n",
              "      <td>2.000</td>\n",
              "      <td>t</td>\n",
              "      <td>t</td>\n",
              "      <td>11</td>\n",
              "      <td>f</td>\n",
              "      <td>g</td>\n",
              "      <td>0.0</td>\n",
              "      <td>456</td>\n",
              "      <td>0</td>\n",
              "    </tr>\n",
              "  </tbody>\n",
              "</table>\n",
              "</div>"
            ],
            "text/plain": [
              "   id  A      B       C  D  E   F  G      H  I  J   K  L  M      N    O  P\n",
              "0   1  b  18.42  10.415  y  p  aa  v  0.125  t  f   0  f  g  120.0  375  1\n",
              "1   2  a  21.75  11.750  u  g   c  v  0.250  f  f   0  t  g  180.0    0  1\n",
              "2   3  b  30.17   1.085  y  p   c  v  0.040  f  f   0  f  g  170.0  179  1\n",
              "3   4  b  22.67   2.540  y  p   c  h  2.585  t  f   0  f  g    0.0    0  0\n",
              "4   5  a  36.00   1.000  u  g   c  v  2.000  t  t  11  f  g    0.0  456  0"
            ]
          },
          "execution_count": 8,
          "metadata": {},
          "output_type": "execute_result"
        }
      ],
      "source": [
        "train_df.head()"
      ]
    },
    {
      "cell_type": "code",
      "execution_count": null,
      "metadata": {
        "id": "WLgdmjPj37FB"
      },
      "outputs": [],
      "source": [
        "train_df = train_df.drop('id',axis=1)"
      ]
    },
    {
      "cell_type": "code",
      "execution_count": null,
      "metadata": {
        "id": "iyITJjse37FD",
        "outputId": "46f2e3b4-1459-4028-ca33-08aab606de2f"
      },
      "outputs": [
        {
          "name": "stdout",
          "output_type": "stream",
          "text": [
            "<class 'pandas.core.frame.DataFrame'>\n",
            "RangeIndex: 552 entries, 0 to 551\n",
            "Data columns (total 16 columns):\n",
            "A    544 non-null object\n",
            "B    543 non-null float64\n",
            "C    552 non-null float64\n",
            "D    547 non-null object\n",
            "E    547 non-null object\n",
            "F    545 non-null object\n",
            "G    545 non-null object\n",
            "H    552 non-null float64\n",
            "I    552 non-null object\n",
            "J    552 non-null object\n",
            "K    552 non-null int64\n",
            "L    552 non-null object\n",
            "M    552 non-null object\n",
            "N    541 non-null float64\n",
            "O    552 non-null int64\n",
            "P    552 non-null int64\n",
            "dtypes: float64(4), int64(3), object(9)\n",
            "memory usage: 69.1+ KB\n"
          ]
        }
      ],
      "source": [
        "train_df.info()"
      ]
    },
    {
      "cell_type": "code",
      "execution_count": null,
      "metadata": {
        "id": "ksITzB3237FF"
      },
      "outputs": [],
      "source": [
        "cat_cols = ['A', 'D', 'E', 'F', 'G', 'I', 'J', 'L', 'M']"
      ]
    },
    {
      "cell_type": "code",
      "execution_count": null,
      "metadata": {
        "id": "yqQVFBJa37FG"
      },
      "outputs": [],
      "source": [
        "# encoding categorical column values\n",
        "\n",
        "for header in cat_cols:\n",
        "    train_df[header] = train_df[header].astype(\"category\").cat.codes\n",
        "   "
      ]
    },
    {
      "cell_type": "code",
      "execution_count": null,
      "metadata": {
        "id": "ORpsgOFH37FH"
      },
      "outputs": [],
      "source": [
        "# creating object for normalising the continuous feature values\n",
        "\n",
        "min_max_scaler = MinMaxScaler()\n",
        "scaler_test = MinMaxScaler()"
      ]
    },
    {
      "cell_type": "code",
      "execution_count": null,
      "metadata": {
        "id": "so4Gyx1m37FI"
      },
      "outputs": [],
      "source": [
        "ls = [x for x in cat_cols]                                  # creating a copy of list of names of categorical columns       "
      ]
    },
    {
      "cell_type": "code",
      "execution_count": null,
      "metadata": {
        "id": "_BNGYpXr37FJ"
      },
      "outputs": [],
      "source": [
        "ls.append('P')"
      ]
    },
    {
      "cell_type": "code",
      "execution_count": null,
      "metadata": {
        "id": "ocRcEU1X37FK"
      },
      "outputs": [],
      "source": [
        "temp = train_df.drop(ls ,axis=1)                            # dataframe with continuous features only "
      ]
    },
    {
      "cell_type": "code",
      "execution_count": null,
      "metadata": {
        "id": "1FgwKeNI37FK",
        "outputId": "ccbaa512-bacd-4670-ab63-2560fc563325"
      },
      "outputs": [
        {
          "data": {
            "text/plain": [
              "B     9\n",
              "C     0\n",
              "H     0\n",
              "K     0\n",
              "N    11\n",
              "O     0\n",
              "dtype: int64"
            ]
          },
          "execution_count": 54,
          "metadata": {},
          "output_type": "execute_result"
        }
      ],
      "source": [
        "temp.isnull().sum()"
      ]
    },
    {
      "cell_type": "code",
      "execution_count": null,
      "metadata": {
        "id": "JfUR3Wou37FL",
        "outputId": "3d637b1b-1a52-4765-fb19-d2ee17072513"
      },
      "outputs": [
        {
          "data": {
            "text/html": [
              "<div>\n",
              "<style scoped>\n",
              "    .dataframe tbody tr th:only-of-type {\n",
              "        vertical-align: middle;\n",
              "    }\n",
              "\n",
              "    .dataframe tbody tr th {\n",
              "        vertical-align: top;\n",
              "    }\n",
              "\n",
              "    .dataframe thead th {\n",
              "        text-align: right;\n",
              "    }\n",
              "</style>\n",
              "<table border=\"1\" class=\"dataframe\">\n",
              "  <thead>\n",
              "    <tr style=\"text-align: right;\">\n",
              "      <th></th>\n",
              "      <th>B</th>\n",
              "      <th>C</th>\n",
              "      <th>H</th>\n",
              "      <th>K</th>\n",
              "      <th>N</th>\n",
              "      <th>O</th>\n",
              "    </tr>\n",
              "  </thead>\n",
              "  <tbody>\n",
              "    <tr>\n",
              "      <th>count</th>\n",
              "      <td>543.000000</td>\n",
              "      <td>552.000000</td>\n",
              "      <td>552.000000</td>\n",
              "      <td>552.000000</td>\n",
              "      <td>541.000000</td>\n",
              "      <td>552.000000</td>\n",
              "    </tr>\n",
              "    <tr>\n",
              "      <th>mean</th>\n",
              "      <td>31.364899</td>\n",
              "      <td>4.780136</td>\n",
              "      <td>2.259176</td>\n",
              "      <td>2.318841</td>\n",
              "      <td>175.162662</td>\n",
              "      <td>1087.576087</td>\n",
              "    </tr>\n",
              "    <tr>\n",
              "      <th>std</th>\n",
              "      <td>11.873665</td>\n",
              "      <td>4.938454</td>\n",
              "      <td>3.442564</td>\n",
              "      <td>4.297867</td>\n",
              "      <td>154.873746</td>\n",
              "      <td>5758.841945</td>\n",
              "    </tr>\n",
              "    <tr>\n",
              "      <th>min</th>\n",
              "      <td>13.750000</td>\n",
              "      <td>0.000000</td>\n",
              "      <td>0.000000</td>\n",
              "      <td>0.000000</td>\n",
              "      <td>0.000000</td>\n",
              "      <td>0.000000</td>\n",
              "    </tr>\n",
              "    <tr>\n",
              "      <th>25%</th>\n",
              "      <td>22.500000</td>\n",
              "      <td>1.000000</td>\n",
              "      <td>0.165000</td>\n",
              "      <td>0.000000</td>\n",
              "      <td>60.000000</td>\n",
              "      <td>0.000000</td>\n",
              "    </tr>\n",
              "    <tr>\n",
              "      <th>50%</th>\n",
              "      <td>28.170000</td>\n",
              "      <td>2.750000</td>\n",
              "      <td>1.000000</td>\n",
              "      <td>0.000000</td>\n",
              "      <td>152.000000</td>\n",
              "      <td>3.500000</td>\n",
              "    </tr>\n",
              "    <tr>\n",
              "      <th>75%</th>\n",
              "      <td>37.665000</td>\n",
              "      <td>7.561250</td>\n",
              "      <td>2.750000</td>\n",
              "      <td>3.000000</td>\n",
              "      <td>268.000000</td>\n",
              "      <td>364.750000</td>\n",
              "    </tr>\n",
              "    <tr>\n",
              "      <th>max</th>\n",
              "      <td>80.250000</td>\n",
              "      <td>28.000000</td>\n",
              "      <td>28.500000</td>\n",
              "      <td>40.000000</td>\n",
              "      <td>1160.000000</td>\n",
              "      <td>100000.000000</td>\n",
              "    </tr>\n",
              "  </tbody>\n",
              "</table>\n",
              "</div>"
            ],
            "text/plain": [
              "                B           C           H           K            N  \\\n",
              "count  543.000000  552.000000  552.000000  552.000000   541.000000   \n",
              "mean    31.364899    4.780136    2.259176    2.318841   175.162662   \n",
              "std     11.873665    4.938454    3.442564    4.297867   154.873746   \n",
              "min     13.750000    0.000000    0.000000    0.000000     0.000000   \n",
              "25%     22.500000    1.000000    0.165000    0.000000    60.000000   \n",
              "50%     28.170000    2.750000    1.000000    0.000000   152.000000   \n",
              "75%     37.665000    7.561250    2.750000    3.000000   268.000000   \n",
              "max     80.250000   28.000000   28.500000   40.000000  1160.000000   \n",
              "\n",
              "                   O  \n",
              "count     552.000000  \n",
              "mean     1087.576087  \n",
              "std      5758.841945  \n",
              "min         0.000000  \n",
              "25%         0.000000  \n",
              "50%         3.500000  \n",
              "75%       364.750000  \n",
              "max    100000.000000  "
            ]
          },
          "execution_count": 55,
          "metadata": {},
          "output_type": "execute_result"
        }
      ],
      "source": [
        "temp.describe()"
      ]
    },
    {
      "cell_type": "code",
      "execution_count": null,
      "metadata": {
        "id": "yTBWqjBp37FL"
      },
      "outputs": [],
      "source": [
        "# imputing NaN with mean of the feature value\n",
        "\n",
        "temp_to_normalise = temp.fillna(temp.mean())   "
      ]
    },
    {
      "cell_type": "code",
      "execution_count": null,
      "metadata": {
        "id": "K8XNdIGK37FM",
        "outputId": "1043bd5a-42e9-4884-cc68-d0ab67615887"
      },
      "outputs": [
        {
          "data": {
            "text/plain": [
              "Index(['B', 'C', 'H', 'K', 'N', 'O'], dtype='object')"
            ]
          },
          "execution_count": 57,
          "metadata": {},
          "output_type": "execute_result"
        }
      ],
      "source": [
        "temp.columns"
      ]
    },
    {
      "cell_type": "code",
      "execution_count": null,
      "metadata": {
        "id": "Jq7DvxWD37FM"
      },
      "outputs": [],
      "source": [
        "# Normalising the continuous features in the range (0,1)\n",
        "\n",
        "scaled_inp_features = min_max_scaler.fit_transform(temp_to_normalise)\n",
        "scaled_inp_features_df = pd.DataFrame(scaled_inp_features)\n",
        "scaled_inp_features_df.columns = temp.columns"
      ]
    },
    {
      "cell_type": "code",
      "execution_count": null,
      "metadata": {
        "scrolled": true,
        "id": "LLaCfFEF37FN",
        "outputId": "829163de-ae65-41a4-de15-d41060cc7a97"
      },
      "outputs": [
        {
          "data": {
            "text/plain": [
              "(552, 6)"
            ]
          },
          "execution_count": 59,
          "metadata": {},
          "output_type": "execute_result"
        }
      ],
      "source": [
        "scaled_inp_features_df.shape"
      ]
    },
    {
      "cell_type": "code",
      "execution_count": null,
      "metadata": {
        "id": "kXUi6F2P37FN",
        "outputId": "e5d6a54d-1df8-484e-ad59-ca32a032bc2a"
      },
      "outputs": [
        {
          "data": {
            "text/html": [
              "<div>\n",
              "<style scoped>\n",
              "    .dataframe tbody tr th:only-of-type {\n",
              "        vertical-align: middle;\n",
              "    }\n",
              "\n",
              "    .dataframe tbody tr th {\n",
              "        vertical-align: top;\n",
              "    }\n",
              "\n",
              "    .dataframe thead th {\n",
              "        text-align: right;\n",
              "    }\n",
              "</style>\n",
              "<table border=\"1\" class=\"dataframe\">\n",
              "  <thead>\n",
              "    <tr style=\"text-align: right;\">\n",
              "      <th></th>\n",
              "      <th>B</th>\n",
              "      <th>C</th>\n",
              "      <th>H</th>\n",
              "      <th>K</th>\n",
              "      <th>N</th>\n",
              "      <th>O</th>\n",
              "    </tr>\n",
              "  </thead>\n",
              "  <tbody>\n",
              "    <tr>\n",
              "      <th>0</th>\n",
              "      <td>0.070226</td>\n",
              "      <td>0.371964</td>\n",
              "      <td>0.004386</td>\n",
              "      <td>0.0</td>\n",
              "      <td>0.103448</td>\n",
              "      <td>0.00375</td>\n",
              "    </tr>\n",
              "    <tr>\n",
              "      <th>1</th>\n",
              "      <td>0.120301</td>\n",
              "      <td>0.419643</td>\n",
              "      <td>0.008772</td>\n",
              "      <td>0.0</td>\n",
              "      <td>0.155172</td>\n",
              "      <td>0.00000</td>\n",
              "    </tr>\n",
              "  </tbody>\n",
              "</table>\n",
              "</div>"
            ],
            "text/plain": [
              "          B         C         H    K         N        O\n",
              "0  0.070226  0.371964  0.004386  0.0  0.103448  0.00375\n",
              "1  0.120301  0.419643  0.008772  0.0  0.155172  0.00000"
            ]
          },
          "execution_count": 60,
          "metadata": {},
          "output_type": "execute_result"
        }
      ],
      "source": [
        "scaled_inp_features_df.head(2)  "
      ]
    },
    {
      "cell_type": "code",
      "execution_count": null,
      "metadata": {
        "id": "RP501thK37FO",
        "outputId": "532144fc-e42a-45f1-accc-a4ff2b9dd7d0"
      },
      "outputs": [
        {
          "data": {
            "text/plain": [
              "RangeIndex(start=0, stop=552, step=1)"
            ]
          },
          "execution_count": 61,
          "metadata": {},
          "output_type": "execute_result"
        }
      ],
      "source": [
        "scaled_inp_features_df.index"
      ]
    },
    {
      "cell_type": "code",
      "execution_count": null,
      "metadata": {
        "id": "MqTgGWtX37FO"
      },
      "outputs": [],
      "source": [
        "categorical_col_df = train_df[cat_cols].copy(deep=True)                      # dataframe with categorical features only"
      ]
    },
    {
      "cell_type": "code",
      "execution_count": null,
      "metadata": {
        "scrolled": true,
        "id": "Co3Ntg_J37FO",
        "outputId": "467cdb1f-3681-4530-af1e-e88a73d2c445"
      },
      "outputs": [
        {
          "data": {
            "text/html": [
              "<div>\n",
              "<style scoped>\n",
              "    .dataframe tbody tr th:only-of-type {\n",
              "        vertical-align: middle;\n",
              "    }\n",
              "\n",
              "    .dataframe tbody tr th {\n",
              "        vertical-align: top;\n",
              "    }\n",
              "\n",
              "    .dataframe thead th {\n",
              "        text-align: right;\n",
              "    }\n",
              "</style>\n",
              "<table border=\"1\" class=\"dataframe\">\n",
              "  <thead>\n",
              "    <tr style=\"text-align: right;\">\n",
              "      <th></th>\n",
              "      <th>A</th>\n",
              "      <th>D</th>\n",
              "      <th>E</th>\n",
              "      <th>F</th>\n",
              "      <th>G</th>\n",
              "      <th>I</th>\n",
              "      <th>J</th>\n",
              "      <th>L</th>\n",
              "      <th>M</th>\n",
              "    </tr>\n",
              "  </thead>\n",
              "  <tbody>\n",
              "    <tr>\n",
              "      <th>0</th>\n",
              "      <td>1</td>\n",
              "      <td>2</td>\n",
              "      <td>2</td>\n",
              "      <td>0</td>\n",
              "      <td>7</td>\n",
              "      <td>1</td>\n",
              "      <td>0</td>\n",
              "      <td>0</td>\n",
              "      <td>0</td>\n",
              "    </tr>\n",
              "    <tr>\n",
              "      <th>1</th>\n",
              "      <td>0</td>\n",
              "      <td>1</td>\n",
              "      <td>0</td>\n",
              "      <td>1</td>\n",
              "      <td>7</td>\n",
              "      <td>0</td>\n",
              "      <td>0</td>\n",
              "      <td>1</td>\n",
              "      <td>0</td>\n",
              "    </tr>\n",
              "    <tr>\n",
              "      <th>2</th>\n",
              "      <td>1</td>\n",
              "      <td>2</td>\n",
              "      <td>2</td>\n",
              "      <td>1</td>\n",
              "      <td>7</td>\n",
              "      <td>0</td>\n",
              "      <td>0</td>\n",
              "      <td>0</td>\n",
              "      <td>0</td>\n",
              "    </tr>\n",
              "    <tr>\n",
              "      <th>3</th>\n",
              "      <td>1</td>\n",
              "      <td>2</td>\n",
              "      <td>2</td>\n",
              "      <td>1</td>\n",
              "      <td>3</td>\n",
              "      <td>1</td>\n",
              "      <td>0</td>\n",
              "      <td>0</td>\n",
              "      <td>0</td>\n",
              "    </tr>\n",
              "    <tr>\n",
              "      <th>4</th>\n",
              "      <td>0</td>\n",
              "      <td>1</td>\n",
              "      <td>0</td>\n",
              "      <td>1</td>\n",
              "      <td>7</td>\n",
              "      <td>1</td>\n",
              "      <td>1</td>\n",
              "      <td>0</td>\n",
              "      <td>0</td>\n",
              "    </tr>\n",
              "  </tbody>\n",
              "</table>\n",
              "</div>"
            ],
            "text/plain": [
              "   A  D  E  F  G  I  J  L  M\n",
              "0  1  2  2  0  7  1  0  0  0\n",
              "1  0  1  0  1  7  0  0  1  0\n",
              "2  1  2  2  1  7  0  0  0  0\n",
              "3  1  2  2  1  3  1  0  0  0\n",
              "4  0  1  0  1  7  1  1  0  0"
            ]
          },
          "execution_count": 63,
          "metadata": {},
          "output_type": "execute_result"
        }
      ],
      "source": [
        "categorical_col_df.head()"
      ]
    },
    {
      "cell_type": "code",
      "execution_count": null,
      "metadata": {
        "id": "eUAgps0J37FP",
        "outputId": "a946a05d-0306-41f4-b42f-2cbd95ed799b"
      },
      "outputs": [
        {
          "data": {
            "text/plain": [
              "A     3\n",
              "D     4\n",
              "E     4\n",
              "F    15\n",
              "G    10\n",
              "I     2\n",
              "J     2\n",
              "L     2\n",
              "M     3\n",
              "dtype: int64"
            ]
          },
          "execution_count": 64,
          "metadata": {},
          "output_type": "execute_result"
        }
      ],
      "source": [
        "categorical_col_df.nunique()"
      ]
    },
    {
      "cell_type": "code",
      "execution_count": null,
      "metadata": {
        "id": "UiYss8Xa37FP"
      },
      "outputs": [],
      "source": [
        "final_columns = temp.columns.values.tolist() + cat_cols"
      ]
    },
    {
      "cell_type": "code",
      "execution_count": null,
      "metadata": {
        "id": "eswhk6e937FP",
        "outputId": "e2b5ed84-788a-46aa-dfd7-a01fc7851efc"
      },
      "outputs": [
        {
          "data": {
            "text/plain": [
              "pandas.core.indexes.base.Index"
            ]
          },
          "execution_count": 66,
          "metadata": {},
          "output_type": "execute_result"
        }
      ],
      "source": [
        "type(temp.columns)"
      ]
    },
    {
      "cell_type": "code",
      "execution_count": null,
      "metadata": {
        "id": "2CeDEBT_37FQ",
        "outputId": "aaedd744-5e85-4fa4-9484-b11952adffee"
      },
      "outputs": [
        {
          "data": {
            "text/plain": [
              "RangeIndex(start=0, stop=552, step=1)"
            ]
          },
          "execution_count": 67,
          "metadata": {},
          "output_type": "execute_result"
        }
      ],
      "source": [
        "categorical_col_df.index"
      ]
    },
    {
      "cell_type": "code",
      "execution_count": null,
      "metadata": {
        "id": "bkwcHaU237FQ"
      },
      "outputs": [],
      "source": [
        "# training set\n",
        "final_df = pd.concat([scaled_inp_features_df,categorical_col_df],axis=1)\n",
        "final_df.columns = final_columns\n"
      ]
    },
    {
      "cell_type": "code",
      "execution_count": null,
      "metadata": {
        "id": "juY9T3q537FQ",
        "outputId": "399aa1a4-cbc8-4e6d-fc51-ad2b654d1480"
      },
      "outputs": [
        {
          "data": {
            "text/plain": [
              "(552, 15)"
            ]
          },
          "execution_count": 69,
          "metadata": {},
          "output_type": "execute_result"
        }
      ],
      "source": [
        "final_df.shape"
      ]
    },
    {
      "cell_type": "code",
      "execution_count": null,
      "metadata": {
        "id": "KvYxzgdO37FR",
        "outputId": "6d9f1f03-df4b-45cf-d817-fd3d67951de3"
      },
      "outputs": [
        {
          "data": {
            "text/plain": [
              "(552,)"
            ]
          },
          "execution_count": 70,
          "metadata": {},
          "output_type": "execute_result"
        }
      ],
      "source": [
        "train_df['P'].shape"
      ]
    },
    {
      "cell_type": "code",
      "execution_count": null,
      "metadata": {
        "id": "vqx46vCp37FR"
      },
      "outputs": [],
      "source": [
        "target_series = train_df['P']\n",
        "target_series.reset_index(inplace=True, drop=True)"
      ]
    },
    {
      "cell_type": "code",
      "execution_count": null,
      "metadata": {
        "id": "QZI5xrPk37FR",
        "outputId": "366ea372-9d06-448c-97f2-c2528d1abeda"
      },
      "outputs": [
        {
          "data": {
            "text/html": [
              "<div>\n",
              "<style scoped>\n",
              "    .dataframe tbody tr th:only-of-type {\n",
              "        vertical-align: middle;\n",
              "    }\n",
              "\n",
              "    .dataframe tbody tr th {\n",
              "        vertical-align: top;\n",
              "    }\n",
              "\n",
              "    .dataframe thead th {\n",
              "        text-align: right;\n",
              "    }\n",
              "</style>\n",
              "<table border=\"1\" class=\"dataframe\">\n",
              "  <thead>\n",
              "    <tr style=\"text-align: right;\">\n",
              "      <th></th>\n",
              "      <th>B</th>\n",
              "      <th>C</th>\n",
              "      <th>H</th>\n",
              "      <th>K</th>\n",
              "      <th>N</th>\n",
              "      <th>O</th>\n",
              "      <th>A</th>\n",
              "      <th>D</th>\n",
              "      <th>E</th>\n",
              "      <th>F</th>\n",
              "      <th>G</th>\n",
              "      <th>I</th>\n",
              "      <th>J</th>\n",
              "      <th>L</th>\n",
              "      <th>M</th>\n",
              "    </tr>\n",
              "  </thead>\n",
              "  <tbody>\n",
              "    <tr>\n",
              "      <th>0</th>\n",
              "      <td>0.070226</td>\n",
              "      <td>0.371964</td>\n",
              "      <td>0.004386</td>\n",
              "      <td>0.000</td>\n",
              "      <td>0.103448</td>\n",
              "      <td>0.00375</td>\n",
              "      <td>1</td>\n",
              "      <td>2</td>\n",
              "      <td>2</td>\n",
              "      <td>0</td>\n",
              "      <td>7</td>\n",
              "      <td>1</td>\n",
              "      <td>0</td>\n",
              "      <td>0</td>\n",
              "      <td>0</td>\n",
              "    </tr>\n",
              "    <tr>\n",
              "      <th>1</th>\n",
              "      <td>0.120301</td>\n",
              "      <td>0.419643</td>\n",
              "      <td>0.008772</td>\n",
              "      <td>0.000</td>\n",
              "      <td>0.155172</td>\n",
              "      <td>0.00000</td>\n",
              "      <td>0</td>\n",
              "      <td>1</td>\n",
              "      <td>0</td>\n",
              "      <td>1</td>\n",
              "      <td>7</td>\n",
              "      <td>0</td>\n",
              "      <td>0</td>\n",
              "      <td>1</td>\n",
              "      <td>0</td>\n",
              "    </tr>\n",
              "    <tr>\n",
              "      <th>2</th>\n",
              "      <td>0.246917</td>\n",
              "      <td>0.038750</td>\n",
              "      <td>0.001404</td>\n",
              "      <td>0.000</td>\n",
              "      <td>0.146552</td>\n",
              "      <td>0.00179</td>\n",
              "      <td>1</td>\n",
              "      <td>2</td>\n",
              "      <td>2</td>\n",
              "      <td>1</td>\n",
              "      <td>7</td>\n",
              "      <td>0</td>\n",
              "      <td>0</td>\n",
              "      <td>0</td>\n",
              "      <td>0</td>\n",
              "    </tr>\n",
              "    <tr>\n",
              "      <th>3</th>\n",
              "      <td>0.134135</td>\n",
              "      <td>0.090714</td>\n",
              "      <td>0.090702</td>\n",
              "      <td>0.000</td>\n",
              "      <td>0.000000</td>\n",
              "      <td>0.00000</td>\n",
              "      <td>1</td>\n",
              "      <td>2</td>\n",
              "      <td>2</td>\n",
              "      <td>1</td>\n",
              "      <td>3</td>\n",
              "      <td>1</td>\n",
              "      <td>0</td>\n",
              "      <td>0</td>\n",
              "      <td>0</td>\n",
              "    </tr>\n",
              "    <tr>\n",
              "      <th>4</th>\n",
              "      <td>0.334586</td>\n",
              "      <td>0.035714</td>\n",
              "      <td>0.070175</td>\n",
              "      <td>0.275</td>\n",
              "      <td>0.000000</td>\n",
              "      <td>0.00456</td>\n",
              "      <td>0</td>\n",
              "      <td>1</td>\n",
              "      <td>0</td>\n",
              "      <td>1</td>\n",
              "      <td>7</td>\n",
              "      <td>1</td>\n",
              "      <td>1</td>\n",
              "      <td>0</td>\n",
              "      <td>0</td>\n",
              "    </tr>\n",
              "  </tbody>\n",
              "</table>\n",
              "</div>"
            ],
            "text/plain": [
              "          B         C         H      K         N        O  A  D  E  F  G  I  \\\n",
              "0  0.070226  0.371964  0.004386  0.000  0.103448  0.00375  1  2  2  0  7  1   \n",
              "1  0.120301  0.419643  0.008772  0.000  0.155172  0.00000  0  1  0  1  7  0   \n",
              "2  0.246917  0.038750  0.001404  0.000  0.146552  0.00179  1  2  2  1  7  0   \n",
              "3  0.134135  0.090714  0.090702  0.000  0.000000  0.00000  1  2  2  1  3  1   \n",
              "4  0.334586  0.035714  0.070175  0.275  0.000000  0.00456  0  1  0  1  7  1   \n",
              "\n",
              "   J  L  M  \n",
              "0  0  0  0  \n",
              "1  0  1  0  \n",
              "2  0  0  0  \n",
              "3  0  0  0  \n",
              "4  1  0  0  "
            ]
          },
          "execution_count": 72,
          "metadata": {},
          "output_type": "execute_result"
        }
      ],
      "source": [
        "final_df.head()"
      ]
    },
    {
      "cell_type": "code",
      "execution_count": null,
      "metadata": {
        "id": "FlcS_o4r37FS"
      },
      "outputs": [],
      "source": [
        "# concatenating target series with feature set\n",
        "final_df1= pd.concat([final_df,target_series],axis=1,ignore_index=True)\n",
        "\n",
        "# adding target column name to column names list\n",
        "final_df1.columns = final_columns + ['P']          "
      ]
    },
    {
      "cell_type": "code",
      "execution_count": null,
      "metadata": {
        "id": "dTCIg15j37FS",
        "outputId": "56cf03b6-4d45-482e-c81a-46df0ec25d7b"
      },
      "outputs": [
        {
          "data": {
            "text/html": [
              "<div>\n",
              "<style scoped>\n",
              "    .dataframe tbody tr th:only-of-type {\n",
              "        vertical-align: middle;\n",
              "    }\n",
              "\n",
              "    .dataframe tbody tr th {\n",
              "        vertical-align: top;\n",
              "    }\n",
              "\n",
              "    .dataframe thead th {\n",
              "        text-align: right;\n",
              "    }\n",
              "</style>\n",
              "<table border=\"1\" class=\"dataframe\">\n",
              "  <thead>\n",
              "    <tr style=\"text-align: right;\">\n",
              "      <th></th>\n",
              "      <th>B</th>\n",
              "      <th>C</th>\n",
              "      <th>H</th>\n",
              "      <th>K</th>\n",
              "      <th>N</th>\n",
              "      <th>O</th>\n",
              "      <th>A</th>\n",
              "      <th>D</th>\n",
              "      <th>E</th>\n",
              "      <th>F</th>\n",
              "      <th>G</th>\n",
              "      <th>I</th>\n",
              "      <th>J</th>\n",
              "      <th>L</th>\n",
              "      <th>M</th>\n",
              "      <th>P</th>\n",
              "    </tr>\n",
              "  </thead>\n",
              "  <tbody>\n",
              "    <tr>\n",
              "      <th>0</th>\n",
              "      <td>0.070226</td>\n",
              "      <td>0.371964</td>\n",
              "      <td>0.004386</td>\n",
              "      <td>0.000</td>\n",
              "      <td>0.103448</td>\n",
              "      <td>0.00375</td>\n",
              "      <td>1</td>\n",
              "      <td>2</td>\n",
              "      <td>2</td>\n",
              "      <td>0</td>\n",
              "      <td>7</td>\n",
              "      <td>1</td>\n",
              "      <td>0</td>\n",
              "      <td>0</td>\n",
              "      <td>0</td>\n",
              "      <td>1</td>\n",
              "    </tr>\n",
              "    <tr>\n",
              "      <th>1</th>\n",
              "      <td>0.120301</td>\n",
              "      <td>0.419643</td>\n",
              "      <td>0.008772</td>\n",
              "      <td>0.000</td>\n",
              "      <td>0.155172</td>\n",
              "      <td>0.00000</td>\n",
              "      <td>0</td>\n",
              "      <td>1</td>\n",
              "      <td>0</td>\n",
              "      <td>1</td>\n",
              "      <td>7</td>\n",
              "      <td>0</td>\n",
              "      <td>0</td>\n",
              "      <td>1</td>\n",
              "      <td>0</td>\n",
              "      <td>1</td>\n",
              "    </tr>\n",
              "    <tr>\n",
              "      <th>2</th>\n",
              "      <td>0.246917</td>\n",
              "      <td>0.038750</td>\n",
              "      <td>0.001404</td>\n",
              "      <td>0.000</td>\n",
              "      <td>0.146552</td>\n",
              "      <td>0.00179</td>\n",
              "      <td>1</td>\n",
              "      <td>2</td>\n",
              "      <td>2</td>\n",
              "      <td>1</td>\n",
              "      <td>7</td>\n",
              "      <td>0</td>\n",
              "      <td>0</td>\n",
              "      <td>0</td>\n",
              "      <td>0</td>\n",
              "      <td>1</td>\n",
              "    </tr>\n",
              "    <tr>\n",
              "      <th>3</th>\n",
              "      <td>0.134135</td>\n",
              "      <td>0.090714</td>\n",
              "      <td>0.090702</td>\n",
              "      <td>0.000</td>\n",
              "      <td>0.000000</td>\n",
              "      <td>0.00000</td>\n",
              "      <td>1</td>\n",
              "      <td>2</td>\n",
              "      <td>2</td>\n",
              "      <td>1</td>\n",
              "      <td>3</td>\n",
              "      <td>1</td>\n",
              "      <td>0</td>\n",
              "      <td>0</td>\n",
              "      <td>0</td>\n",
              "      <td>0</td>\n",
              "    </tr>\n",
              "    <tr>\n",
              "      <th>4</th>\n",
              "      <td>0.334586</td>\n",
              "      <td>0.035714</td>\n",
              "      <td>0.070175</td>\n",
              "      <td>0.275</td>\n",
              "      <td>0.000000</td>\n",
              "      <td>0.00456</td>\n",
              "      <td>0</td>\n",
              "      <td>1</td>\n",
              "      <td>0</td>\n",
              "      <td>1</td>\n",
              "      <td>7</td>\n",
              "      <td>1</td>\n",
              "      <td>1</td>\n",
              "      <td>0</td>\n",
              "      <td>0</td>\n",
              "      <td>0</td>\n",
              "    </tr>\n",
              "  </tbody>\n",
              "</table>\n",
              "</div>"
            ],
            "text/plain": [
              "          B         C         H      K         N        O  A  D  E  F  G  I  \\\n",
              "0  0.070226  0.371964  0.004386  0.000  0.103448  0.00375  1  2  2  0  7  1   \n",
              "1  0.120301  0.419643  0.008772  0.000  0.155172  0.00000  0  1  0  1  7  0   \n",
              "2  0.246917  0.038750  0.001404  0.000  0.146552  0.00179  1  2  2  1  7  0   \n",
              "3  0.134135  0.090714  0.090702  0.000  0.000000  0.00000  1  2  2  1  3  1   \n",
              "4  0.334586  0.035714  0.070175  0.275  0.000000  0.00456  0  1  0  1  7  1   \n",
              "\n",
              "   J  L  M  P  \n",
              "0  0  0  0  1  \n",
              "1  0  1  0  1  \n",
              "2  0  0  0  1  \n",
              "3  0  0  0  0  \n",
              "4  1  0  0  0  "
            ]
          },
          "execution_count": 74,
          "metadata": {},
          "output_type": "execute_result"
        }
      ],
      "source": [
        "final_df1.head()"
      ]
    },
    {
      "cell_type": "code",
      "execution_count": null,
      "metadata": {
        "id": "8CryyTlc37FT",
        "outputId": "4ceac4d0-a2a5-4646-998e-5cc6531996f4"
      },
      "outputs": [
        {
          "data": {
            "text/plain": [
              "(552, 16)"
            ]
          },
          "execution_count": 75,
          "metadata": {},
          "output_type": "execute_result"
        }
      ],
      "source": [
        "final_df1.shape"
      ]
    },
    {
      "cell_type": "code",
      "execution_count": null,
      "metadata": {
        "id": "lsV0eKnp37FT",
        "outputId": "ebc45450-1229-4200-b2d9-6168e6d2f6fc"
      },
      "outputs": [
        {
          "data": {
            "text/plain": [
              "array(['B', 'C', 'H', 'K', 'N', 'O', 'A', 'D', 'E', 'F', 'G', 'I', 'J',\n",
              "       'L', 'M', 'P'], dtype=object)"
            ]
          },
          "execution_count": 76,
          "metadata": {},
          "output_type": "execute_result"
        }
      ],
      "source": [
        "final_df1.columns.values"
      ]
    },
    {
      "cell_type": "code",
      "execution_count": null,
      "metadata": {
        "scrolled": false,
        "id": "Age7dQq637FT",
        "outputId": "c2216bac-3eab-4ace-d4db-38b1596caff2"
      },
      "outputs": [
        {
          "data": {
            "text/html": [
              "<div>\n",
              "<style scoped>\n",
              "    .dataframe tbody tr th:only-of-type {\n",
              "        vertical-align: middle;\n",
              "    }\n",
              "\n",
              "    .dataframe tbody tr th {\n",
              "        vertical-align: top;\n",
              "    }\n",
              "\n",
              "    .dataframe thead th {\n",
              "        text-align: right;\n",
              "    }\n",
              "</style>\n",
              "<table border=\"1\" class=\"dataframe\">\n",
              "  <thead>\n",
              "    <tr style=\"text-align: right;\">\n",
              "      <th></th>\n",
              "      <th>B</th>\n",
              "      <th>C</th>\n",
              "      <th>H</th>\n",
              "      <th>K</th>\n",
              "      <th>N</th>\n",
              "      <th>O</th>\n",
              "      <th>A</th>\n",
              "      <th>D</th>\n",
              "      <th>E</th>\n",
              "      <th>F</th>\n",
              "      <th>G</th>\n",
              "      <th>I</th>\n",
              "      <th>J</th>\n",
              "      <th>L</th>\n",
              "      <th>M</th>\n",
              "      <th>P</th>\n",
              "    </tr>\n",
              "  </thead>\n",
              "  <tbody>\n",
              "    <tr>\n",
              "      <th>0</th>\n",
              "      <td>0.070226</td>\n",
              "      <td>0.371964</td>\n",
              "      <td>0.004386</td>\n",
              "      <td>0.000</td>\n",
              "      <td>0.103448</td>\n",
              "      <td>0.00375</td>\n",
              "      <td>1</td>\n",
              "      <td>2</td>\n",
              "      <td>2</td>\n",
              "      <td>0</td>\n",
              "      <td>7</td>\n",
              "      <td>1</td>\n",
              "      <td>0</td>\n",
              "      <td>0</td>\n",
              "      <td>0</td>\n",
              "      <td>1</td>\n",
              "    </tr>\n",
              "    <tr>\n",
              "      <th>1</th>\n",
              "      <td>0.120301</td>\n",
              "      <td>0.419643</td>\n",
              "      <td>0.008772</td>\n",
              "      <td>0.000</td>\n",
              "      <td>0.155172</td>\n",
              "      <td>0.00000</td>\n",
              "      <td>0</td>\n",
              "      <td>1</td>\n",
              "      <td>0</td>\n",
              "      <td>1</td>\n",
              "      <td>7</td>\n",
              "      <td>0</td>\n",
              "      <td>0</td>\n",
              "      <td>1</td>\n",
              "      <td>0</td>\n",
              "      <td>1</td>\n",
              "    </tr>\n",
              "    <tr>\n",
              "      <th>2</th>\n",
              "      <td>0.246917</td>\n",
              "      <td>0.038750</td>\n",
              "      <td>0.001404</td>\n",
              "      <td>0.000</td>\n",
              "      <td>0.146552</td>\n",
              "      <td>0.00179</td>\n",
              "      <td>1</td>\n",
              "      <td>2</td>\n",
              "      <td>2</td>\n",
              "      <td>1</td>\n",
              "      <td>7</td>\n",
              "      <td>0</td>\n",
              "      <td>0</td>\n",
              "      <td>0</td>\n",
              "      <td>0</td>\n",
              "      <td>1</td>\n",
              "    </tr>\n",
              "    <tr>\n",
              "      <th>3</th>\n",
              "      <td>0.134135</td>\n",
              "      <td>0.090714</td>\n",
              "      <td>0.090702</td>\n",
              "      <td>0.000</td>\n",
              "      <td>0.000000</td>\n",
              "      <td>0.00000</td>\n",
              "      <td>1</td>\n",
              "      <td>2</td>\n",
              "      <td>2</td>\n",
              "      <td>1</td>\n",
              "      <td>3</td>\n",
              "      <td>1</td>\n",
              "      <td>0</td>\n",
              "      <td>0</td>\n",
              "      <td>0</td>\n",
              "      <td>0</td>\n",
              "    </tr>\n",
              "    <tr>\n",
              "      <th>4</th>\n",
              "      <td>0.334586</td>\n",
              "      <td>0.035714</td>\n",
              "      <td>0.070175</td>\n",
              "      <td>0.275</td>\n",
              "      <td>0.000000</td>\n",
              "      <td>0.00456</td>\n",
              "      <td>0</td>\n",
              "      <td>1</td>\n",
              "      <td>0</td>\n",
              "      <td>1</td>\n",
              "      <td>7</td>\n",
              "      <td>1</td>\n",
              "      <td>1</td>\n",
              "      <td>0</td>\n",
              "      <td>0</td>\n",
              "      <td>0</td>\n",
              "    </tr>\n",
              "  </tbody>\n",
              "</table>\n",
              "</div>"
            ],
            "text/plain": [
              "          B         C         H      K         N        O  A  D  E  F  G  I  \\\n",
              "0  0.070226  0.371964  0.004386  0.000  0.103448  0.00375  1  2  2  0  7  1   \n",
              "1  0.120301  0.419643  0.008772  0.000  0.155172  0.00000  0  1  0  1  7  0   \n",
              "2  0.246917  0.038750  0.001404  0.000  0.146552  0.00179  1  2  2  1  7  0   \n",
              "3  0.134135  0.090714  0.090702  0.000  0.000000  0.00000  1  2  2  1  3  1   \n",
              "4  0.334586  0.035714  0.070175  0.275  0.000000  0.00456  0  1  0  1  7  1   \n",
              "\n",
              "   J  L  M  P  \n",
              "0  0  0  0  1  \n",
              "1  0  1  0  1  \n",
              "2  0  0  0  1  \n",
              "3  0  0  0  0  \n",
              "4  1  0  0  0  "
            ]
          },
          "execution_count": 77,
          "metadata": {},
          "output_type": "execute_result"
        }
      ],
      "source": [
        "final_df1.head()"
      ]
    },
    {
      "cell_type": "code",
      "execution_count": null,
      "metadata": {
        "id": "OyNWc92237FU"
      },
      "outputs": [],
      "source": [
        "# indices of categorical columns\n",
        "\n",
        "cat_dims = [final_df1.columns.get_loc(i) for i in cat_cols]   \n"
      ]
    },
    {
      "cell_type": "code",
      "execution_count": null,
      "metadata": {
        "id": "3LT87p3037FU",
        "outputId": "0570df39-6377-4c71-b6d7-b4822d975424"
      },
      "outputs": [
        {
          "data": {
            "text/plain": [
              "[6, 7, 8, 9, 10, 11, 12, 13, 14]"
            ]
          },
          "execution_count": 79,
          "metadata": {},
          "output_type": "execute_result"
        }
      ],
      "source": [
        "cat_dims"
      ]
    },
    {
      "cell_type": "code",
      "execution_count": null,
      "metadata": {
        "id": "y25PKppT37FU"
      },
      "outputs": [],
      "source": [
        "encoded_set = pd.get_dummies(final_df1, columns=cat_cols )"
      ]
    },
    {
      "cell_type": "code",
      "execution_count": null,
      "metadata": {
        "id": "C-Nc3C2q37FV",
        "outputId": "320002ba-6a53-4fd6-afa1-650f6972225c"
      },
      "outputs": [
        {
          "data": {
            "text/plain": [
              "(552, 52)"
            ]
          },
          "execution_count": 81,
          "metadata": {},
          "output_type": "execute_result"
        }
      ],
      "source": [
        "encoded_set.shape"
      ]
    },
    {
      "cell_type": "code",
      "execution_count": null,
      "metadata": {
        "id": "ZQ0wpA7I37Ff"
      },
      "outputs": [],
      "source": [
        "split_limit_index = int(0.8*train_df.shape[0])"
      ]
    },
    {
      "cell_type": "code",
      "execution_count": null,
      "metadata": {
        "id": "uZv5gULm37Fg"
      },
      "outputs": [],
      "source": [
        "sample_train = encoded_set[:split_limit_index].drop('P',axis=1)\n",
        "sample_val = encoded_set[split_limit_index:].drop('P',axis=1)"
      ]
    },
    {
      "cell_type": "code",
      "execution_count": null,
      "metadata": {
        "scrolled": false,
        "id": "7u6B9ksi37Fg",
        "outputId": "ec0d4ebc-d651-47c0-a4ff-1711fc5eeb83"
      },
      "outputs": [
        {
          "data": {
            "text/html": [
              "<div>\n",
              "<style scoped>\n",
              "    .dataframe tbody tr th:only-of-type {\n",
              "        vertical-align: middle;\n",
              "    }\n",
              "\n",
              "    .dataframe tbody tr th {\n",
              "        vertical-align: top;\n",
              "    }\n",
              "\n",
              "    .dataframe thead th {\n",
              "        text-align: right;\n",
              "    }\n",
              "</style>\n",
              "<table border=\"1\" class=\"dataframe\">\n",
              "  <thead>\n",
              "    <tr style=\"text-align: right;\">\n",
              "      <th></th>\n",
              "      <th>B</th>\n",
              "      <th>C</th>\n",
              "      <th>H</th>\n",
              "      <th>K</th>\n",
              "      <th>N</th>\n",
              "      <th>O</th>\n",
              "      <th>A_-1</th>\n",
              "      <th>A_0</th>\n",
              "      <th>A_1</th>\n",
              "      <th>D_-1</th>\n",
              "      <th>...</th>\n",
              "      <th>G_8</th>\n",
              "      <th>I_0</th>\n",
              "      <th>I_1</th>\n",
              "      <th>J_0</th>\n",
              "      <th>J_1</th>\n",
              "      <th>L_0</th>\n",
              "      <th>L_1</th>\n",
              "      <th>M_0</th>\n",
              "      <th>M_1</th>\n",
              "      <th>M_2</th>\n",
              "    </tr>\n",
              "  </thead>\n",
              "  <tbody>\n",
              "    <tr>\n",
              "      <th>0</th>\n",
              "      <td>0.070226</td>\n",
              "      <td>0.371964</td>\n",
              "      <td>0.004386</td>\n",
              "      <td>0.000</td>\n",
              "      <td>0.103448</td>\n",
              "      <td>0.00375</td>\n",
              "      <td>0</td>\n",
              "      <td>0</td>\n",
              "      <td>1</td>\n",
              "      <td>0</td>\n",
              "      <td>...</td>\n",
              "      <td>0</td>\n",
              "      <td>0</td>\n",
              "      <td>1</td>\n",
              "      <td>1</td>\n",
              "      <td>0</td>\n",
              "      <td>1</td>\n",
              "      <td>0</td>\n",
              "      <td>1</td>\n",
              "      <td>0</td>\n",
              "      <td>0</td>\n",
              "    </tr>\n",
              "    <tr>\n",
              "      <th>1</th>\n",
              "      <td>0.120301</td>\n",
              "      <td>0.419643</td>\n",
              "      <td>0.008772</td>\n",
              "      <td>0.000</td>\n",
              "      <td>0.155172</td>\n",
              "      <td>0.00000</td>\n",
              "      <td>0</td>\n",
              "      <td>1</td>\n",
              "      <td>0</td>\n",
              "      <td>0</td>\n",
              "      <td>...</td>\n",
              "      <td>0</td>\n",
              "      <td>1</td>\n",
              "      <td>0</td>\n",
              "      <td>1</td>\n",
              "      <td>0</td>\n",
              "      <td>0</td>\n",
              "      <td>1</td>\n",
              "      <td>1</td>\n",
              "      <td>0</td>\n",
              "      <td>0</td>\n",
              "    </tr>\n",
              "    <tr>\n",
              "      <th>2</th>\n",
              "      <td>0.246917</td>\n",
              "      <td>0.038750</td>\n",
              "      <td>0.001404</td>\n",
              "      <td>0.000</td>\n",
              "      <td>0.146552</td>\n",
              "      <td>0.00179</td>\n",
              "      <td>0</td>\n",
              "      <td>0</td>\n",
              "      <td>1</td>\n",
              "      <td>0</td>\n",
              "      <td>...</td>\n",
              "      <td>0</td>\n",
              "      <td>1</td>\n",
              "      <td>0</td>\n",
              "      <td>1</td>\n",
              "      <td>0</td>\n",
              "      <td>1</td>\n",
              "      <td>0</td>\n",
              "      <td>1</td>\n",
              "      <td>0</td>\n",
              "      <td>0</td>\n",
              "    </tr>\n",
              "    <tr>\n",
              "      <th>3</th>\n",
              "      <td>0.134135</td>\n",
              "      <td>0.090714</td>\n",
              "      <td>0.090702</td>\n",
              "      <td>0.000</td>\n",
              "      <td>0.000000</td>\n",
              "      <td>0.00000</td>\n",
              "      <td>0</td>\n",
              "      <td>0</td>\n",
              "      <td>1</td>\n",
              "      <td>0</td>\n",
              "      <td>...</td>\n",
              "      <td>0</td>\n",
              "      <td>0</td>\n",
              "      <td>1</td>\n",
              "      <td>1</td>\n",
              "      <td>0</td>\n",
              "      <td>1</td>\n",
              "      <td>0</td>\n",
              "      <td>1</td>\n",
              "      <td>0</td>\n",
              "      <td>0</td>\n",
              "    </tr>\n",
              "    <tr>\n",
              "      <th>4</th>\n",
              "      <td>0.334586</td>\n",
              "      <td>0.035714</td>\n",
              "      <td>0.070175</td>\n",
              "      <td>0.275</td>\n",
              "      <td>0.000000</td>\n",
              "      <td>0.00456</td>\n",
              "      <td>0</td>\n",
              "      <td>1</td>\n",
              "      <td>0</td>\n",
              "      <td>0</td>\n",
              "      <td>...</td>\n",
              "      <td>0</td>\n",
              "      <td>0</td>\n",
              "      <td>1</td>\n",
              "      <td>0</td>\n",
              "      <td>1</td>\n",
              "      <td>1</td>\n",
              "      <td>0</td>\n",
              "      <td>1</td>\n",
              "      <td>0</td>\n",
              "      <td>0</td>\n",
              "    </tr>\n",
              "  </tbody>\n",
              "</table>\n",
              "<p>5 rows × 51 columns</p>\n",
              "</div>"
            ],
            "text/plain": [
              "          B         C         H      K         N        O  A_-1  A_0  A_1  \\\n",
              "0  0.070226  0.371964  0.004386  0.000  0.103448  0.00375     0    0    1   \n",
              "1  0.120301  0.419643  0.008772  0.000  0.155172  0.00000     0    1    0   \n",
              "2  0.246917  0.038750  0.001404  0.000  0.146552  0.00179     0    0    1   \n",
              "3  0.134135  0.090714  0.090702  0.000  0.000000  0.00000     0    0    1   \n",
              "4  0.334586  0.035714  0.070175  0.275  0.000000  0.00456     0    1    0   \n",
              "\n",
              "   D_-1 ...   G_8  I_0  I_1  J_0  J_1  L_0  L_1  M_0  M_1  M_2  \n",
              "0     0 ...     0    0    1    1    0    1    0    1    0    0  \n",
              "1     0 ...     0    1    0    1    0    0    1    1    0    0  \n",
              "2     0 ...     0    1    0    1    0    1    0    1    0    0  \n",
              "3     0 ...     0    0    1    1    0    1    0    1    0    0  \n",
              "4     0 ...     0    0    1    0    1    1    0    1    0    0  \n",
              "\n",
              "[5 rows x 51 columns]"
            ]
          },
          "execution_count": 85,
          "metadata": {},
          "output_type": "execute_result"
        }
      ],
      "source": [
        "sample_train.head()"
      ]
    },
    {
      "cell_type": "code",
      "execution_count": null,
      "metadata": {
        "id": "N_HTU9tP37Fh",
        "outputId": "86c1eab1-237a-40d2-9d55-8ca607a97604"
      },
      "outputs": [
        {
          "data": {
            "text/plain": [
              "(441, 51)"
            ]
          },
          "execution_count": 86,
          "metadata": {},
          "output_type": "execute_result"
        }
      ],
      "source": [
        "sample_train.shape"
      ]
    },
    {
      "cell_type": "code",
      "execution_count": null,
      "metadata": {
        "id": "Xzivj7Fu37Fi"
      },
      "outputs": [],
      "source": [
        "train_label = final_df1['P'][:split_limit_index]\n",
        "val_label = final_df1['P'][split_limit_index:]"
      ]
    },
    {
      "cell_type": "code",
      "execution_count": null,
      "metadata": {
        "id": "zrh2T7RA37Fi",
        "outputId": "07a7f80c-facc-4e22-88ae-b76fd42458c7"
      },
      "outputs": [
        {
          "data": {
            "text/html": [
              "<div>\n",
              "<style scoped>\n",
              "    .dataframe tbody tr th:only-of-type {\n",
              "        vertical-align: middle;\n",
              "    }\n",
              "\n",
              "    .dataframe tbody tr th {\n",
              "        vertical-align: top;\n",
              "    }\n",
              "\n",
              "    .dataframe thead th {\n",
              "        text-align: right;\n",
              "    }\n",
              "</style>\n",
              "<table border=\"1\" class=\"dataframe\">\n",
              "  <thead>\n",
              "    <tr style=\"text-align: right;\">\n",
              "      <th></th>\n",
              "      <th>B</th>\n",
              "      <th>C</th>\n",
              "      <th>H</th>\n",
              "      <th>K</th>\n",
              "      <th>N</th>\n",
              "      <th>O</th>\n",
              "      <th>A_-1</th>\n",
              "      <th>A_0</th>\n",
              "      <th>A_1</th>\n",
              "      <th>D_-1</th>\n",
              "      <th>...</th>\n",
              "      <th>G_8</th>\n",
              "      <th>I_0</th>\n",
              "      <th>I_1</th>\n",
              "      <th>J_0</th>\n",
              "      <th>J_1</th>\n",
              "      <th>L_0</th>\n",
              "      <th>L_1</th>\n",
              "      <th>M_0</th>\n",
              "      <th>M_1</th>\n",
              "      <th>M_2</th>\n",
              "    </tr>\n",
              "  </thead>\n",
              "  <tbody>\n",
              "    <tr>\n",
              "      <th>0</th>\n",
              "      <td>0.070226</td>\n",
              "      <td>0.371964</td>\n",
              "      <td>0.004386</td>\n",
              "      <td>0.000</td>\n",
              "      <td>0.103448</td>\n",
              "      <td>0.00375</td>\n",
              "      <td>0</td>\n",
              "      <td>0</td>\n",
              "      <td>1</td>\n",
              "      <td>0</td>\n",
              "      <td>...</td>\n",
              "      <td>0</td>\n",
              "      <td>0</td>\n",
              "      <td>1</td>\n",
              "      <td>1</td>\n",
              "      <td>0</td>\n",
              "      <td>1</td>\n",
              "      <td>0</td>\n",
              "      <td>1</td>\n",
              "      <td>0</td>\n",
              "      <td>0</td>\n",
              "    </tr>\n",
              "    <tr>\n",
              "      <th>1</th>\n",
              "      <td>0.120301</td>\n",
              "      <td>0.419643</td>\n",
              "      <td>0.008772</td>\n",
              "      <td>0.000</td>\n",
              "      <td>0.155172</td>\n",
              "      <td>0.00000</td>\n",
              "      <td>0</td>\n",
              "      <td>1</td>\n",
              "      <td>0</td>\n",
              "      <td>0</td>\n",
              "      <td>...</td>\n",
              "      <td>0</td>\n",
              "      <td>1</td>\n",
              "      <td>0</td>\n",
              "      <td>1</td>\n",
              "      <td>0</td>\n",
              "      <td>0</td>\n",
              "      <td>1</td>\n",
              "      <td>1</td>\n",
              "      <td>0</td>\n",
              "      <td>0</td>\n",
              "    </tr>\n",
              "    <tr>\n",
              "      <th>2</th>\n",
              "      <td>0.246917</td>\n",
              "      <td>0.038750</td>\n",
              "      <td>0.001404</td>\n",
              "      <td>0.000</td>\n",
              "      <td>0.146552</td>\n",
              "      <td>0.00179</td>\n",
              "      <td>0</td>\n",
              "      <td>0</td>\n",
              "      <td>1</td>\n",
              "      <td>0</td>\n",
              "      <td>...</td>\n",
              "      <td>0</td>\n",
              "      <td>1</td>\n",
              "      <td>0</td>\n",
              "      <td>1</td>\n",
              "      <td>0</td>\n",
              "      <td>1</td>\n",
              "      <td>0</td>\n",
              "      <td>1</td>\n",
              "      <td>0</td>\n",
              "      <td>0</td>\n",
              "    </tr>\n",
              "    <tr>\n",
              "      <th>3</th>\n",
              "      <td>0.134135</td>\n",
              "      <td>0.090714</td>\n",
              "      <td>0.090702</td>\n",
              "      <td>0.000</td>\n",
              "      <td>0.000000</td>\n",
              "      <td>0.00000</td>\n",
              "      <td>0</td>\n",
              "      <td>0</td>\n",
              "      <td>1</td>\n",
              "      <td>0</td>\n",
              "      <td>...</td>\n",
              "      <td>0</td>\n",
              "      <td>0</td>\n",
              "      <td>1</td>\n",
              "      <td>1</td>\n",
              "      <td>0</td>\n",
              "      <td>1</td>\n",
              "      <td>0</td>\n",
              "      <td>1</td>\n",
              "      <td>0</td>\n",
              "      <td>0</td>\n",
              "    </tr>\n",
              "    <tr>\n",
              "      <th>4</th>\n",
              "      <td>0.334586</td>\n",
              "      <td>0.035714</td>\n",
              "      <td>0.070175</td>\n",
              "      <td>0.275</td>\n",
              "      <td>0.000000</td>\n",
              "      <td>0.00456</td>\n",
              "      <td>0</td>\n",
              "      <td>1</td>\n",
              "      <td>0</td>\n",
              "      <td>0</td>\n",
              "      <td>...</td>\n",
              "      <td>0</td>\n",
              "      <td>0</td>\n",
              "      <td>1</td>\n",
              "      <td>0</td>\n",
              "      <td>1</td>\n",
              "      <td>1</td>\n",
              "      <td>0</td>\n",
              "      <td>1</td>\n",
              "      <td>0</td>\n",
              "      <td>0</td>\n",
              "    </tr>\n",
              "  </tbody>\n",
              "</table>\n",
              "<p>5 rows × 51 columns</p>\n",
              "</div>"
            ],
            "text/plain": [
              "          B         C         H      K         N        O  A_-1  A_0  A_1  \\\n",
              "0  0.070226  0.371964  0.004386  0.000  0.103448  0.00375     0    0    1   \n",
              "1  0.120301  0.419643  0.008772  0.000  0.155172  0.00000     0    1    0   \n",
              "2  0.246917  0.038750  0.001404  0.000  0.146552  0.00179     0    0    1   \n",
              "3  0.134135  0.090714  0.090702  0.000  0.000000  0.00000     0    0    1   \n",
              "4  0.334586  0.035714  0.070175  0.275  0.000000  0.00456     0    1    0   \n",
              "\n",
              "   D_-1 ...   G_8  I_0  I_1  J_0  J_1  L_0  L_1  M_0  M_1  M_2  \n",
              "0     0 ...     0    0    1    1    0    1    0    1    0    0  \n",
              "1     0 ...     0    1    0    1    0    0    1    1    0    0  \n",
              "2     0 ...     0    1    0    1    0    1    0    1    0    0  \n",
              "3     0 ...     0    0    1    1    0    1    0    1    0    0  \n",
              "4     0 ...     0    0    1    0    1    1    0    1    0    0  \n",
              "\n",
              "[5 rows x 51 columns]"
            ]
          },
          "execution_count": 88,
          "metadata": {},
          "output_type": "execute_result"
        }
      ],
      "source": [
        "sample_train.head()"
      ]
    },
    {
      "cell_type": "code",
      "execution_count": null,
      "metadata": {
        "id": "C-4jbqWS37Fj",
        "outputId": "5fa6ef41-5612-4d9a-c3e4-d4ba15c70e7e"
      },
      "outputs": [
        {
          "data": {
            "text/html": [
              "<div>\n",
              "<style scoped>\n",
              "    .dataframe tbody tr th:only-of-type {\n",
              "        vertical-align: middle;\n",
              "    }\n",
              "\n",
              "    .dataframe tbody tr th {\n",
              "        vertical-align: top;\n",
              "    }\n",
              "\n",
              "    .dataframe thead th {\n",
              "        text-align: right;\n",
              "    }\n",
              "</style>\n",
              "<table border=\"1\" class=\"dataframe\">\n",
              "  <thead>\n",
              "    <tr style=\"text-align: right;\">\n",
              "      <th></th>\n",
              "      <th>B</th>\n",
              "      <th>C</th>\n",
              "      <th>H</th>\n",
              "      <th>K</th>\n",
              "      <th>N</th>\n",
              "      <th>O</th>\n",
              "      <th>A_-1</th>\n",
              "      <th>A_0</th>\n",
              "      <th>A_1</th>\n",
              "      <th>D_-1</th>\n",
              "      <th>...</th>\n",
              "      <th>G_8</th>\n",
              "      <th>I_0</th>\n",
              "      <th>I_1</th>\n",
              "      <th>J_0</th>\n",
              "      <th>J_1</th>\n",
              "      <th>L_0</th>\n",
              "      <th>L_1</th>\n",
              "      <th>M_0</th>\n",
              "      <th>M_1</th>\n",
              "      <th>M_2</th>\n",
              "    </tr>\n",
              "  </thead>\n",
              "  <tbody>\n",
              "    <tr>\n",
              "      <th>441</th>\n",
              "      <td>0.253083</td>\n",
              "      <td>0.380893</td>\n",
              "      <td>0.002982</td>\n",
              "      <td>0.300</td>\n",
              "      <td>0.111207</td>\n",
              "      <td>0.00003</td>\n",
              "      <td>0</td>\n",
              "      <td>1</td>\n",
              "      <td>0</td>\n",
              "      <td>0</td>\n",
              "      <td>...</td>\n",
              "      <td>0</td>\n",
              "      <td>1</td>\n",
              "      <td>0</td>\n",
              "      <td>0</td>\n",
              "      <td>1</td>\n",
              "      <td>0</td>\n",
              "      <td>1</td>\n",
              "      <td>1</td>\n",
              "      <td>0</td>\n",
              "      <td>0</td>\n",
              "    </tr>\n",
              "    <tr>\n",
              "      <th>442</th>\n",
              "      <td>0.101504</td>\n",
              "      <td>0.086250</td>\n",
              "      <td>0.070175</td>\n",
              "      <td>0.275</td>\n",
              "      <td>0.172414</td>\n",
              "      <td>0.03000</td>\n",
              "      <td>0</td>\n",
              "      <td>0</td>\n",
              "      <td>1</td>\n",
              "      <td>0</td>\n",
              "      <td>...</td>\n",
              "      <td>0</td>\n",
              "      <td>0</td>\n",
              "      <td>1</td>\n",
              "      <td>0</td>\n",
              "      <td>1</td>\n",
              "      <td>0</td>\n",
              "      <td>1</td>\n",
              "      <td>1</td>\n",
              "      <td>0</td>\n",
              "      <td>0</td>\n",
              "    </tr>\n",
              "    <tr>\n",
              "      <th>443</th>\n",
              "      <td>0.130376</td>\n",
              "      <td>0.401786</td>\n",
              "      <td>0.026316</td>\n",
              "      <td>0.100</td>\n",
              "      <td>0.000000</td>\n",
              "      <td>0.00321</td>\n",
              "      <td>0</td>\n",
              "      <td>1</td>\n",
              "      <td>0</td>\n",
              "      <td>0</td>\n",
              "      <td>...</td>\n",
              "      <td>0</td>\n",
              "      <td>0</td>\n",
              "      <td>1</td>\n",
              "      <td>0</td>\n",
              "      <td>1</td>\n",
              "      <td>1</td>\n",
              "      <td>0</td>\n",
              "      <td>1</td>\n",
              "      <td>0</td>\n",
              "      <td>0</td>\n",
              "    </tr>\n",
              "    <tr>\n",
              "      <th>444</th>\n",
              "      <td>0.207970</td>\n",
              "      <td>0.116071</td>\n",
              "      <td>0.178421</td>\n",
              "      <td>0.050</td>\n",
              "      <td>0.318103</td>\n",
              "      <td>0.00001</td>\n",
              "      <td>0</td>\n",
              "      <td>0</td>\n",
              "      <td>1</td>\n",
              "      <td>0</td>\n",
              "      <td>...</td>\n",
              "      <td>0</td>\n",
              "      <td>1</td>\n",
              "      <td>0</td>\n",
              "      <td>0</td>\n",
              "      <td>1</td>\n",
              "      <td>0</td>\n",
              "      <td>1</td>\n",
              "      <td>1</td>\n",
              "      <td>0</td>\n",
              "      <td>0</td>\n",
              "    </tr>\n",
              "    <tr>\n",
              "      <th>445</th>\n",
              "      <td>0.047669</td>\n",
              "      <td>0.017857</td>\n",
              "      <td>0.005789</td>\n",
              "      <td>0.150</td>\n",
              "      <td>0.206897</td>\n",
              "      <td>0.00035</td>\n",
              "      <td>0</td>\n",
              "      <td>1</td>\n",
              "      <td>0</td>\n",
              "      <td>0</td>\n",
              "      <td>...</td>\n",
              "      <td>0</td>\n",
              "      <td>1</td>\n",
              "      <td>0</td>\n",
              "      <td>0</td>\n",
              "      <td>1</td>\n",
              "      <td>0</td>\n",
              "      <td>1</td>\n",
              "      <td>1</td>\n",
              "      <td>0</td>\n",
              "      <td>0</td>\n",
              "    </tr>\n",
              "  </tbody>\n",
              "</table>\n",
              "<p>5 rows × 51 columns</p>\n",
              "</div>"
            ],
            "text/plain": [
              "            B         C         H      K         N        O  A_-1  A_0  A_1  \\\n",
              "441  0.253083  0.380893  0.002982  0.300  0.111207  0.00003     0    1    0   \n",
              "442  0.101504  0.086250  0.070175  0.275  0.172414  0.03000     0    0    1   \n",
              "443  0.130376  0.401786  0.026316  0.100  0.000000  0.00321     0    1    0   \n",
              "444  0.207970  0.116071  0.178421  0.050  0.318103  0.00001     0    0    1   \n",
              "445  0.047669  0.017857  0.005789  0.150  0.206897  0.00035     0    1    0   \n",
              "\n",
              "     D_-1 ...   G_8  I_0  I_1  J_0  J_1  L_0  L_1  M_0  M_1  M_2  \n",
              "441     0 ...     0    1    0    0    1    0    1    1    0    0  \n",
              "442     0 ...     0    0    1    0    1    0    1    1    0    0  \n",
              "443     0 ...     0    0    1    0    1    1    0    1    0    0  \n",
              "444     0 ...     0    1    0    0    1    0    1    1    0    0  \n",
              "445     0 ...     0    1    0    0    1    0    1    1    0    0  \n",
              "\n",
              "[5 rows x 51 columns]"
            ]
          },
          "execution_count": 89,
          "metadata": {},
          "output_type": "execute_result"
        }
      ],
      "source": [
        "sample_val.head()"
      ]
    },
    {
      "cell_type": "code",
      "execution_count": null,
      "metadata": {
        "id": "fUQTJ7jI37Fj",
        "outputId": "e865ebdc-8b15-4d7f-f5a1-ab29cf3d7ae7"
      },
      "outputs": [
        {
          "data": {
            "text/plain": [
              "(441,)"
            ]
          },
          "execution_count": 90,
          "metadata": {},
          "output_type": "execute_result"
        }
      ],
      "source": [
        "train_label.shape"
      ]
    },
    {
      "cell_type": "code",
      "execution_count": null,
      "metadata": {
        "id": "Cwmcji7g37Fk",
        "outputId": "de97e1a8-f14b-4f1a-bfb5-3df4214732f6"
      },
      "outputs": [
        {
          "data": {
            "text/plain": [
              "(111,)"
            ]
          },
          "execution_count": 91,
          "metadata": {},
          "output_type": "execute_result"
        }
      ],
      "source": [
        "val_label.shape"
      ]
    },
    {
      "cell_type": "code",
      "execution_count": null,
      "metadata": {
        "id": "-RhPTExS37Fl"
      },
      "outputs": [],
      "source": [
        "train_set = sample_train.drop('P',axis=1)\n",
        "val_set = sample_val.drop('P',axis=1)"
      ]
    },
    {
      "cell_type": "code",
      "execution_count": null,
      "metadata": {
        "id": "5iY1kX7b37Fl"
      },
      "outputs": [],
      "source": [
        "train_label = sample_train['P']\n",
        "val_label = sample_val['P']"
      ]
    },
    {
      "cell_type": "markdown",
      "metadata": {
        "id": "BHFR9I9W37Fm"
      },
      "source": [
        "Applying TPOT classifier"
      ]
    },
    {
      "cell_type": "code",
      "execution_count": null,
      "metadata": {
        "id": "5eorJKls37Fr"
      },
      "outputs": [],
      "source": [
        "# ,scoring='neg_log_loss' ,random_state = 2,periodic_checkpoint_folder:    (to be added below)"
      ]
    },
    {
      "cell_type": "code",
      "execution_count": null,
      "metadata": {
        "scrolled": true,
        "id": "arZ1I7lS37Fs"
      },
      "outputs": [],
      "source": [
        "tpot1 = TPOTClassifier(generations=100, population_size=100, verbosity=2)"
      ]
    },
    {
      "cell_type": "code",
      "execution_count": null,
      "metadata": {
        "scrolled": true,
        "id": "FYtMHYc037Ft",
        "outputId": "7b05c1b8-231a-4f36-88e6-f25674edba0b"
      },
      "outputs": [
        {
          "name": "stderr",
          "output_type": "stream",
          "text": [
            "Optimization Progress:   2%|▏         | 200/10100 [01:44<1:44:25,  1.58pipeline/s]"
          ]
        },
        {
          "name": "stdout",
          "output_type": "stream",
          "text": [
            "Generation 1 - Current best internal CV score: 0.8844117267209093\n"
          ]
        },
        {
          "name": "stderr",
          "output_type": "stream",
          "text": [
            "Optimization Progress:   3%|▎         | 300/10100 [03:05<1:59:06,  1.37pipeline/s]"
          ]
        },
        {
          "name": "stdout",
          "output_type": "stream",
          "text": [
            "Generation 2 - Current best internal CV score: 0.8889061087433812\n"
          ]
        },
        {
          "name": "stderr",
          "output_type": "stream",
          "text": [
            "Optimization Progress:   4%|▍         | 400/10100 [04:36<1:22:38,  1.96pipeline/s]"
          ]
        },
        {
          "name": "stdout",
          "output_type": "stream",
          "text": [
            "Generation 3 - Current best internal CV score: 0.8889061087433812\n"
          ]
        },
        {
          "name": "stderr",
          "output_type": "stream",
          "text": [
            "Optimization Progress:   5%|▍         | 500/10100 [05:50<2:05:42,  1.27pipeline/s]"
          ]
        },
        {
          "name": "stdout",
          "output_type": "stream",
          "text": [
            "Generation 4 - Current best internal CV score: 0.8889061087433812\n"
          ]
        },
        {
          "name": "stderr",
          "output_type": "stream",
          "text": [
            "Optimization Progress:   6%|▌         | 600/10100 [06:50<1:16:40,  2.07pipeline/s]"
          ]
        },
        {
          "name": "stdout",
          "output_type": "stream",
          "text": [
            "Generation 5 - Current best internal CV score: 0.8889061087433812\n"
          ]
        },
        {
          "name": "stderr",
          "output_type": "stream",
          "text": [
            "Optimization Progress:   7%|▋         | 700/10100 [08:11<1:03:16,  2.48pipeline/s]"
          ]
        },
        {
          "name": "stdout",
          "output_type": "stream",
          "text": [
            "Generation 6 - Current best internal CV score: 0.8889061087433812\n"
          ]
        },
        {
          "name": "stderr",
          "output_type": "stream",
          "text": [
            "Optimization Progress:   8%|▊         | 800/10100 [09:31<52:48,  2.94pipeline/s]  "
          ]
        },
        {
          "name": "stdout",
          "output_type": "stream",
          "text": [
            "Generation 7 - Current best internal CV score: 0.8889061087433812\n"
          ]
        },
        {
          "name": "stderr",
          "output_type": "stream",
          "text": [
            "Optimization Progress:   9%|▉         | 900/10100 [10:59<3:04:09,  1.20s/pipeline]"
          ]
        },
        {
          "name": "stdout",
          "output_type": "stream",
          "text": [
            "Generation 8 - Current best internal CV score: 0.8932971716388997\n"
          ]
        },
        {
          "name": "stderr",
          "output_type": "stream",
          "text": [
            "Optimization Progress:  10%|▉         | 1000/10100 [12:12<1:34:57,  1.60pipeline/s]"
          ]
        },
        {
          "name": "stdout",
          "output_type": "stream",
          "text": [
            "Generation 9 - Current best internal CV score: 0.8932971716388997\n"
          ]
        },
        {
          "name": "stderr",
          "output_type": "stream",
          "text": [
            "Optimization Progress:  11%|█         | 1100/10100 [13:17<52:04,  2.88pipeline/s]  "
          ]
        },
        {
          "name": "stdout",
          "output_type": "stream",
          "text": [
            "Generation 10 - Current best internal CV score: 0.8932971716388997\n"
          ]
        },
        {
          "name": "stderr",
          "output_type": "stream",
          "text": [
            "Optimization Progress:  12%|█▏        | 1200/10100 [14:37<1:48:56,  1.36pipeline/s]"
          ]
        },
        {
          "name": "stdout",
          "output_type": "stream",
          "text": [
            "Generation 11 - Current best internal CV score: 0.8935038098928064\n"
          ]
        },
        {
          "name": "stderr",
          "output_type": "stream",
          "text": [
            "Optimization Progress:  13%|█▎        | 1300/10100 [16:09<1:13:21,  2.00pipeline/s]"
          ]
        },
        {
          "name": "stdout",
          "output_type": "stream",
          "text": [
            "Generation 12 - Current best internal CV score: 0.8979981919152783\n"
          ]
        },
        {
          "name": "stderr",
          "output_type": "stream",
          "text": [
            "Optimization Progress:  14%|█▍        | 1400/10100 [17:28<1:46:44,  1.36pipeline/s]"
          ]
        },
        {
          "name": "stdout",
          "output_type": "stream",
          "text": [
            "Generation 13 - Current best internal CV score: 0.8979981919152783\n"
          ]
        },
        {
          "name": "stderr",
          "output_type": "stream",
          "text": [
            "Optimization Progress:  15%|█▍        | 1500/10100 [19:20<1:20:13,  1.79pipeline/s] "
          ]
        },
        {
          "name": "stdout",
          "output_type": "stream",
          "text": [
            "Generation 14 - Current best internal CV score: 0.8979981919152783\n"
          ]
        },
        {
          "name": "stderr",
          "output_type": "stream",
          "text": [
            "Optimization Progress:  16%|█▌        | 1600/10100 [20:45<1:27:52,  1.61pipeline/s]"
          ]
        },
        {
          "name": "stdout",
          "output_type": "stream",
          "text": [
            "Generation 15 - Current best internal CV score: 0.8979981919152783\n"
          ]
        },
        {
          "name": "stderr",
          "output_type": "stream",
          "text": [
            "Optimization Progress:  17%|█▋        | 1700/10100 [22:32<3:29:45,  1.50s/pipeline]"
          ]
        },
        {
          "name": "stdout",
          "output_type": "stream",
          "text": [
            "Generation 16 - Current best internal CV score: 0.8979981919152783\n"
          ]
        },
        {
          "name": "stderr",
          "output_type": "stream",
          "text": [
            "Optimization Progress:  18%|█▊        | 1800/10100 [24:15<1:25:30,  1.62pipeline/s] "
          ]
        },
        {
          "name": "stdout",
          "output_type": "stream",
          "text": [
            "Generation 17 - Current best internal CV score: 0.8979981919152783\n"
          ]
        },
        {
          "name": "stderr",
          "output_type": "stream",
          "text": [
            "Optimization Progress:  19%|█▉        | 1900/10100 [25:37<1:58:10,  1.16pipeline/s]"
          ]
        },
        {
          "name": "stdout",
          "output_type": "stream",
          "text": [
            "Generation 18 - Current best internal CV score: 0.8979981919152783\n"
          ]
        },
        {
          "name": "stderr",
          "output_type": "stream",
          "text": [
            "Optimization Progress:  20%|█▉        | 2000/10100 [27:09<1:22:44,  1.63pipeline/s]"
          ]
        },
        {
          "name": "stdout",
          "output_type": "stream",
          "text": [
            "Generation 19 - Current best internal CV score: 0.8979981919152783\n"
          ]
        },
        {
          "name": "stderr",
          "output_type": "stream",
          "text": [
            "Optimization Progress:  21%|██        | 2100/10100 [28:22<1:22:32,  1.62pipeline/s]"
          ]
        },
        {
          "name": "stdout",
          "output_type": "stream",
          "text": [
            "Generation 20 - Current best internal CV score: 0.8979981919152783\n"
          ]
        },
        {
          "name": "stderr",
          "output_type": "stream",
          "text": [
            "Optimization Progress:  22%|██▏       | 2200/10100 [29:44<1:01:08,  2.15pipeline/s]"
          ]
        },
        {
          "name": "stdout",
          "output_type": "stream",
          "text": [
            "Generation 21 - Current best internal CV score: 0.8979981919152783\n"
          ]
        },
        {
          "name": "stderr",
          "output_type": "stream",
          "text": [
            "Optimization Progress:  23%|██▎       | 2300/10100 [31:20<1:13:22,  1.77pipeline/s]"
          ]
        },
        {
          "name": "stdout",
          "output_type": "stream",
          "text": [
            "Generation 22 - Current best internal CV score: 0.8979981919152783\n"
          ]
        },
        {
          "name": "stderr",
          "output_type": "stream",
          "text": [
            "Optimization Progress:  24%|██▍       | 2400/10100 [32:53<2:10:00,  1.01s/pipeline]"
          ]
        },
        {
          "name": "stdout",
          "output_type": "stream",
          "text": [
            "Generation 23 - Current best internal CV score: 0.8979981919152783\n"
          ]
        },
        {
          "name": "stderr",
          "output_type": "stream",
          "text": [
            "Optimization Progress:  25%|██▍       | 2500/10100 [34:34<1:19:43,  1.59pipeline/s]"
          ]
        },
        {
          "name": "stdout",
          "output_type": "stream",
          "text": [
            "Generation 24 - Current best internal CV score: 0.8979981919152783\n"
          ]
        },
        {
          "name": "stderr",
          "output_type": "stream",
          "text": [
            "Optimization Progress:  26%|██▌       | 2600/10100 [36:11<1:20:40,  1.55pipeline/s]"
          ]
        },
        {
          "name": "stdout",
          "output_type": "stream",
          "text": [
            "Generation 25 - Current best internal CV score: 0.8979981919152784\n"
          ]
        },
        {
          "name": "stderr",
          "output_type": "stream",
          "text": [
            "Optimization Progress:  27%|██▋       | 2700/10100 [37:58<2:01:54,  1.01pipeline/s] "
          ]
        },
        {
          "name": "stdout",
          "output_type": "stream",
          "text": [
            "Generation 26 - Current best internal CV score: 0.900142063799561\n"
          ]
        },
        {
          "name": "stderr",
          "output_type": "stream",
          "text": [
            "Optimization Progress:  28%|██▊       | 2800/10100 [39:42<2:21:07,  1.16s/pipeline]"
          ]
        },
        {
          "name": "stdout",
          "output_type": "stream",
          "text": [
            "Generation 27 - Current best internal CV score: 0.900142063799561\n"
          ]
        },
        {
          "name": "stderr",
          "output_type": "stream",
          "text": [
            "Optimization Progress:  29%|██▊       | 2900/10100 [41:44<1:59:47,  1.00pipeline/s] "
          ]
        },
        {
          "name": "stdout",
          "output_type": "stream",
          "text": [
            "Generation 28 - Current best internal CV score: 0.900142063799561\n"
          ]
        },
        {
          "name": "stderr",
          "output_type": "stream",
          "text": [
            "Optimization Progress:  30%|██▉       | 3000/10100 [43:41<2:00:38,  1.02s/pipeline] "
          ]
        },
        {
          "name": "stdout",
          "output_type": "stream",
          "text": [
            "Generation 29 - Current best internal CV score: 0.900142063799561\n"
          ]
        },
        {
          "name": "stderr",
          "output_type": "stream",
          "text": [
            "Optimization Progress:  31%|███       | 3100/10100 [45:22<1:20:56,  1.44pipeline/s]"
          ]
        },
        {
          "name": "stdout",
          "output_type": "stream",
          "text": [
            "Generation 30 - Current best internal CV score: 0.900142063799561\n"
          ]
        },
        {
          "name": "stderr",
          "output_type": "stream",
          "text": [
            "Optimization Progress:  32%|███▏      | 3200/10100 [47:13<5:44:10,  2.99s/pipeline]"
          ]
        },
        {
          "name": "stdout",
          "output_type": "stream",
          "text": [
            "Generation 31 - Current best internal CV score: 0.900142063799561\n"
          ]
        },
        {
          "name": "stderr",
          "output_type": "stream",
          "text": [
            "Optimization Progress:  33%|███▎      | 3300/10100 [48:45<1:30:54,  1.25pipeline/s]"
          ]
        },
        {
          "name": "stdout",
          "output_type": "stream",
          "text": [
            "Generation 32 - Current best internal CV score: 0.900142063799561\n"
          ]
        },
        {
          "name": "stderr",
          "output_type": "stream",
          "text": [
            "Optimization Progress:  34%|███▎      | 3400/10100 [50:15<1:24:26,  1.32pipeline/s]"
          ]
        },
        {
          "name": "stdout",
          "output_type": "stream",
          "text": [
            "Generation 33 - Current best internal CV score: 0.900142063799561\n"
          ]
        },
        {
          "name": "stderr",
          "output_type": "stream",
          "text": [
            "Optimization Progress:  35%|███▍      | 3500/10100 [51:57<1:12:54,  1.51pipeline/s]"
          ]
        },
        {
          "name": "stdout",
          "output_type": "stream",
          "text": [
            "Generation 34 - Current best internal CV score: 0.900142063799561\n"
          ]
        },
        {
          "name": "stderr",
          "output_type": "stream",
          "text": [
            "Optimization Progress:  36%|███▌      | 3600/10100 [53:52<1:43:41,  1.04pipeline/s] "
          ]
        },
        {
          "name": "stdout",
          "output_type": "stream",
          "text": [
            "Generation 35 - Current best internal CV score: 0.900297042489991\n"
          ]
        },
        {
          "name": "stderr",
          "output_type": "stream",
          "text": [
            "Optimization Progress:  37%|███▋      | 3700/10100 [55:15<59:34,  1.79pipeline/s]  "
          ]
        },
        {
          "name": "stdout",
          "output_type": "stream",
          "text": [
            "Generation 36 - Current best internal CV score: 0.900297042489991\n"
          ]
        },
        {
          "name": "stderr",
          "output_type": "stream",
          "text": [
            "Optimization Progress:  38%|███▊      | 3800/10100 [57:06<1:40:53,  1.04pipeline/s]"
          ]
        },
        {
          "name": "stdout",
          "output_type": "stream",
          "text": [
            "Generation 37 - Current best internal CV score: 0.900297042489991\n"
          ]
        },
        {
          "name": "stderr",
          "output_type": "stream",
          "text": [
            "Optimization Progress:  39%|███▊      | 3900/10100 [58:55<1:35:06,  1.09pipeline/s]"
          ]
        },
        {
          "name": "stdout",
          "output_type": "stream",
          "text": [
            "Generation 38 - Current best internal CV score: 0.900297042489991\n"
          ]
        },
        {
          "name": "stderr",
          "output_type": "stream",
          "text": [
            "Optimization Progress:  40%|███▉      | 4000/10100 [1:01:15<1:48:28,  1.07s/pipeline]"
          ]
        },
        {
          "name": "stdout",
          "output_type": "stream",
          "text": [
            "Generation 39 - Current best internal CV score: 0.900297042489991\n"
          ]
        },
        {
          "name": "stderr",
          "output_type": "stream",
          "text": [
            "Optimization Progress:  41%|████      | 4100/10100 [1:03:02<1:27:01,  1.15pipeline/s]"
          ]
        },
        {
          "name": "stdout",
          "output_type": "stream",
          "text": [
            "Generation 40 - Current best internal CV score: 0.900297042489991\n"
          ]
        },
        {
          "name": "stderr",
          "output_type": "stream",
          "text": [
            "Optimization Progress:  42%|████▏     | 4200/10100 [1:05:06<1:21:24,  1.21pipeline/s]"
          ]
        },
        {
          "name": "stdout",
          "output_type": "stream",
          "text": [
            "Generation 41 - Current best internal CV score: 0.900297042489991\n"
          ]
        },
        {
          "name": "stderr",
          "output_type": "stream",
          "text": [
            "Optimization Progress:  43%|████▎     | 4300/10100 [1:07:54<1:34:35,  1.02pipeline/s] "
          ]
        },
        {
          "name": "stdout",
          "output_type": "stream",
          "text": [
            "Generation 42 - Current best internal CV score: 0.900297042489991\n"
          ]
        },
        {
          "name": "stderr",
          "output_type": "stream",
          "text": [
            "Optimization Progress:  44%|████▎     | 4400/10100 [1:10:02<2:11:06,  1.38s/pipeline]"
          ]
        },
        {
          "name": "stdout",
          "output_type": "stream",
          "text": [
            "Generation 43 - Current best internal CV score: 0.9069352963967454\n"
          ]
        },
        {
          "name": "stderr",
          "output_type": "stream",
          "text": [
            "Optimization Progress:  45%|████▍     | 4500/10100 [1:12:25<1:45:40,  1.13s/pipeline] "
          ]
        },
        {
          "name": "stdout",
          "output_type": "stream",
          "text": [
            "Generation 44 - Current best internal CV score: 0.9069352963967454\n"
          ]
        },
        {
          "name": "stderr",
          "output_type": "stream",
          "text": [
            "Optimization Progress:  46%|████▌     | 4600/10100 [1:14:22<1:09:18,  1.32pipeline/s]"
          ]
        },
        {
          "name": "stdout",
          "output_type": "stream",
          "text": [
            "Generation 45 - Current best internal CV score: 0.9069352963967454\n"
          ]
        },
        {
          "name": "stderr",
          "output_type": "stream",
          "text": [
            "Optimization Progress:  47%|████▋     | 4700/10100 [1:16:38<46:20,  1.94pipeline/s]  "
          ]
        },
        {
          "name": "stdout",
          "output_type": "stream",
          "text": [
            "Generation 46 - Current best internal CV score: 0.9069352963967454\n"
          ]
        },
        {
          "name": "stderr",
          "output_type": "stream",
          "text": [
            "Optimization Progress:  48%|████▊     | 4800/10100 [1:18:43<1:22:05,  1.08pipeline/s]"
          ]
        },
        {
          "name": "stdout",
          "output_type": "stream",
          "text": [
            "Generation 47 - Current best internal CV score: 0.9069352963967454\n"
          ]
        },
        {
          "name": "stderr",
          "output_type": "stream",
          "text": [
            "Optimization Progress:  49%|████▊     | 4900/10100 [1:20:40<57:58,  1.50pipeline/s]  "
          ]
        },
        {
          "name": "stdout",
          "output_type": "stream",
          "text": [
            "Generation 48 - Current best internal CV score: 0.9069352963967454\n"
          ]
        },
        {
          "name": "stderr",
          "output_type": "stream",
          "text": [
            "Optimization Progress:  50%|████▉     | 5000/10100 [1:22:39<1:26:03,  1.01s/pipeline]"
          ]
        },
        {
          "name": "stdout",
          "output_type": "stream",
          "text": [
            "Generation 49 - Current best internal CV score: 0.9069352963967454\n"
          ]
        },
        {
          "name": "stderr",
          "output_type": "stream",
          "text": [
            "Optimization Progress:  50%|█████     | 5100/10100 [1:24:36<1:10:20,  1.18pipeline/s]"
          ]
        },
        {
          "name": "stdout",
          "output_type": "stream",
          "text": [
            "Generation 50 - Current best internal CV score: 0.9069352963967454\n"
          ]
        },
        {
          "name": "stderr",
          "output_type": "stream",
          "text": [
            "Optimization Progress:  51%|█████▏    | 5200/10100 [1:26:32<1:32:35,  1.13s/pipeline]"
          ]
        },
        {
          "name": "stdout",
          "output_type": "stream",
          "text": [
            "Generation 51 - Current best internal CV score: 0.9069352963967454\n"
          ]
        },
        {
          "name": "stderr",
          "output_type": "stream",
          "text": [
            "Optimization Progress:  52%|█████▏    | 5300/10100 [1:28:34<1:35:54,  1.20s/pipeline]"
          ]
        },
        {
          "name": "stdout",
          "output_type": "stream",
          "text": [
            "Generation 52 - Current best internal CV score: 0.9069352963967454\n"
          ]
        },
        {
          "name": "stderr",
          "output_type": "stream",
          "text": [
            "Optimization Progress:  53%|█████▎    | 5400/10100 [1:30:34<1:56:18,  1.48s/pipeline]"
          ]
        },
        {
          "name": "stdout",
          "output_type": "stream",
          "text": [
            "Generation 53 - Current best internal CV score: 0.909234146971458\n"
          ]
        },
        {
          "name": "stderr",
          "output_type": "stream",
          "text": [
            "Optimization Progress:  54%|█████▍    | 5500/10100 [1:32:35<1:04:04,  1.20pipeline/s]"
          ]
        },
        {
          "name": "stdout",
          "output_type": "stream",
          "text": [
            "Generation 54 - Current best internal CV score: 0.909234146971458\n"
          ]
        },
        {
          "name": "stderr",
          "output_type": "stream",
          "text": [
            "Optimization Progress:  55%|█████▌    | 5600/10100 [1:34:30<1:23:24,  1.11s/pipeline]"
          ]
        },
        {
          "name": "stdout",
          "output_type": "stream",
          "text": [
            "Generation 55 - Current best internal CV score: 0.909234146971458\n"
          ]
        },
        {
          "name": "stderr",
          "output_type": "stream",
          "text": [
            "Optimization Progress:  56%|█████▋    | 5700/10100 [1:36:34<1:13:46,  1.01s/pipeline]"
          ]
        },
        {
          "name": "stdout",
          "output_type": "stream",
          "text": [
            "Generation 56 - Current best internal CV score: 0.909234146971458\n"
          ]
        },
        {
          "name": "stderr",
          "output_type": "stream",
          "text": [
            "Optimization Progress:  57%|█████▋    | 5800/10100 [1:38:38<2:09:34,  1.81s/pipeline]"
          ]
        },
        {
          "name": "stdout",
          "output_type": "stream",
          "text": [
            "Generation 57 - Current best internal CV score: 0.909234146971458\n"
          ]
        },
        {
          "name": "stderr",
          "output_type": "stream",
          "text": [
            "Optimization Progress:  58%|█████▊    | 5900/10100 [1:40:29<1:02:52,  1.11pipeline/s]"
          ]
        },
        {
          "name": "stdout",
          "output_type": "stream",
          "text": [
            "Generation 58 - Current best internal CV score: 0.909234146971458\n"
          ]
        },
        {
          "name": "stderr",
          "output_type": "stream",
          "text": [
            "Optimization Progress:  59%|█████▉    | 6000/10100 [1:42:50<55:20,  1.23pipeline/s]  "
          ]
        },
        {
          "name": "stdout",
          "output_type": "stream",
          "text": [
            "Generation 59 - Current best internal CV score: 0.909234146971458\n"
          ]
        },
        {
          "name": "stderr",
          "output_type": "stream",
          "text": [
            "Optimization Progress:  60%|██████    | 6100/10100 [1:45:16<3:22:39,  3.04s/pipeline]"
          ]
        },
        {
          "name": "stdout",
          "output_type": "stream",
          "text": [
            "Generation 60 - Current best internal CV score: 0.909234146971458\n"
          ]
        },
        {
          "name": "stderr",
          "output_type": "stream",
          "text": [
            "Optimization Progress:  61%|██████▏   | 6200/10100 [1:47:11<54:09,  1.20pipeline/s]  "
          ]
        },
        {
          "name": "stdout",
          "output_type": "stream",
          "text": [
            "Generation 61 - Current best internal CV score: 0.909234146971458\n"
          ]
        },
        {
          "name": "stderr",
          "output_type": "stream",
          "text": [
            "Optimization Progress:  62%|██████▏   | 6300/10100 [1:49:17<56:49,  1.11pipeline/s]  "
          ]
        },
        {
          "name": "stdout",
          "output_type": "stream",
          "text": [
            "Generation 62 - Current best internal CV score: 0.909234146971458\n"
          ]
        },
        {
          "name": "stderr",
          "output_type": "stream",
          "text": [
            "Optimization Progress:  63%|██████▎   | 6400/10100 [1:51:24<1:07:21,  1.09s/pipeline]"
          ]
        },
        {
          "name": "stdout",
          "output_type": "stream",
          "text": [
            "Generation 63 - Current best internal CV score: 0.909234146971458\n"
          ]
        },
        {
          "name": "stderr",
          "output_type": "stream",
          "text": [
            "Optimization Progress:  64%|██████▍   | 6500/10100 [1:53:37<1:01:02,  1.02s/pipeline]"
          ]
        },
        {
          "name": "stdout",
          "output_type": "stream",
          "text": [
            "Generation 64 - Current best internal CV score: 0.9114813379826939\n"
          ]
        },
        {
          "name": "stderr",
          "output_type": "stream",
          "text": [
            "Optimization Progress:  65%|██████▌   | 6600/10100 [1:56:02<1:13:49,  1.27s/pipeline]"
          ]
        },
        {
          "name": "stdout",
          "output_type": "stream",
          "text": [
            "Generation 65 - Current best internal CV score: 0.9114813379826939\n"
          ]
        },
        {
          "name": "stderr",
          "output_type": "stream",
          "text": [
            "Optimization Progress:  66%|██████▋   | 6700/10100 [1:58:25<55:21,  1.02pipeline/s]  "
          ]
        },
        {
          "name": "stdout",
          "output_type": "stream",
          "text": [
            "Generation 66 - Current best internal CV score: 0.9114813379826939\n"
          ]
        },
        {
          "name": "stderr",
          "output_type": "stream",
          "text": [
            "Optimization Progress:  67%|██████▋   | 6800/10100 [2:00:36<53:45,  1.02pipeline/s]  "
          ]
        },
        {
          "name": "stdout",
          "output_type": "stream",
          "text": [
            "Generation 67 - Current best internal CV score: 0.9114813379826939\n"
          ]
        },
        {
          "name": "stderr",
          "output_type": "stream",
          "text": [
            "Optimization Progress:  68%|██████▊   | 6900/10100 [2:02:45<58:41,  1.10s/pipeline]  "
          ]
        },
        {
          "name": "stdout",
          "output_type": "stream",
          "text": [
            "Generation 68 - Current best internal CV score: 0.9114813379826939\n"
          ]
        },
        {
          "name": "stderr",
          "output_type": "stream",
          "text": [
            "Optimization Progress:  69%|██████▉   | 7000/10100 [2:04:43<38:21,  1.35pipeline/s]  "
          ]
        },
        {
          "name": "stdout",
          "output_type": "stream",
          "text": [
            "Generation 69 - Current best internal CV score: 0.9114813379826939\n"
          ]
        },
        {
          "name": "stderr",
          "output_type": "stream",
          "text": [
            "Optimization Progress:  70%|███████   | 7100/10100 [2:06:56<50:10,  1.00s/pipeline]  "
          ]
        },
        {
          "name": "stdout",
          "output_type": "stream",
          "text": [
            "Generation 70 - Current best internal CV score: 0.9114813379826939\n"
          ]
        },
        {
          "name": "stderr",
          "output_type": "stream",
          "text": [
            "Optimization Progress:  71%|███████▏  | 7200/10100 [2:09:26<36:00,  1.34pipeline/s]  "
          ]
        },
        {
          "name": "stdout",
          "output_type": "stream",
          "text": [
            "Generation 71 - Current best internal CV score: 0.91372852899393\n"
          ]
        },
        {
          "name": "stderr",
          "output_type": "stream",
          "text": [
            "Optimization Progress:  72%|███████▏  | 7300/10100 [2:11:21<35:41,  1.31pipeline/s]  "
          ]
        },
        {
          "name": "stdout",
          "output_type": "stream",
          "text": [
            "Generation 72 - Current best internal CV score: 0.91372852899393\n"
          ]
        },
        {
          "name": "stderr",
          "output_type": "stream",
          "text": [
            "Optimization Progress:  73%|███████▎  | 7400/10100 [2:13:21<1:06:37,  1.48s/pipeline]"
          ]
        },
        {
          "name": "stdout",
          "output_type": "stream",
          "text": [
            "Generation 73 - Current best internal CV score: 0.91372852899393\n"
          ]
        },
        {
          "name": "stderr",
          "output_type": "stream",
          "text": [
            "Optimization Progress:  74%|███████▍  | 7500/10100 [2:15:38<55:24,  1.28s/pipeline]  "
          ]
        },
        {
          "name": "stdout",
          "output_type": "stream",
          "text": [
            "Generation 74 - Current best internal CV score: 0.91372852899393\n"
          ]
        },
        {
          "name": "stderr",
          "output_type": "stream",
          "text": [
            "Optimization Progress:  75%|███████▌  | 7600/10100 [2:17:18<36:23,  1.15pipeline/s]  "
          ]
        },
        {
          "name": "stdout",
          "output_type": "stream",
          "text": [
            "Generation 75 - Current best internal CV score: 0.91372852899393\n"
          ]
        },
        {
          "name": "stderr",
          "output_type": "stream",
          "text": [
            "Optimization Progress:  76%|███████▌  | 7700/10100 [2:19:17<1:07:58,  1.70s/pipeline]"
          ]
        },
        {
          "name": "stdout",
          "output_type": "stream",
          "text": [
            "Generation 76 - Current best internal CV score: 0.91372852899393\n"
          ]
        },
        {
          "name": "stderr",
          "output_type": "stream",
          "text": [
            "Optimization Progress:  77%|███████▋  | 7800/10100 [2:20:59<1:01:37,  1.61s/pipeline]"
          ]
        },
        {
          "name": "stdout",
          "output_type": "stream",
          "text": [
            "Generation 77 - Current best internal CV score: 0.91372852899393\n"
          ]
        },
        {
          "name": "stderr",
          "output_type": "stream",
          "text": [
            "Optimization Progress:  78%|███████▊  | 7900/10100 [2:22:24<22:01,  1.67pipeline/s]  "
          ]
        },
        {
          "name": "stdout",
          "output_type": "stream",
          "text": [
            "Generation 78 - Current best internal CV score: 0.91372852899393\n"
          ]
        },
        {
          "name": "stderr",
          "output_type": "stream",
          "text": [
            "Optimization Progress:  79%|███████▉  | 8000/10100 [2:23:48<22:22,  1.56pipeline/s]  "
          ]
        },
        {
          "name": "stdout",
          "output_type": "stream",
          "text": [
            "Generation 79 - Current best internal CV score: 0.91372852899393\n"
          ]
        },
        {
          "name": "stderr",
          "output_type": "stream",
          "text": [
            "Optimization Progress:  80%|████████  | 8100/10100 [2:25:31<33:39,  1.01s/pipeline]  "
          ]
        },
        {
          "name": "stdout",
          "output_type": "stream",
          "text": [
            "Generation 80 - Current best internal CV score: 0.91372852899393\n"
          ]
        },
        {
          "name": "stderr",
          "output_type": "stream",
          "text": [
            "Optimization Progress:  81%|████████  | 8200/10100 [2:27:11<26:52,  1.18pipeline/s]  "
          ]
        },
        {
          "name": "stdout",
          "output_type": "stream",
          "text": [
            "Generation 81 - Current best internal CV score: 0.91372852899393\n"
          ]
        },
        {
          "name": "stderr",
          "output_type": "stream",
          "text": [
            "Optimization Progress:  82%|████████▏ | 8300/10100 [2:28:37<37:21,  1.25s/pipeline]  "
          ]
        },
        {
          "name": "stdout",
          "output_type": "stream",
          "text": [
            "Generation 82 - Current best internal CV score: 0.91372852899393\n"
          ]
        },
        {
          "name": "stderr",
          "output_type": "stream",
          "text": [
            "Optimization Progress:  83%|████████▎ | 8400/10100 [2:29:57<23:27,  1.21pipeline/s]"
          ]
        },
        {
          "name": "stdout",
          "output_type": "stream",
          "text": [
            "Generation 83 - Current best internal CV score: 0.91372852899393\n"
          ]
        },
        {
          "name": "stderr",
          "output_type": "stream",
          "text": [
            "Optimization Progress:  84%|████████▍ | 8500/10100 [2:31:26<17:27,  1.53pipeline/s]"
          ]
        },
        {
          "name": "stdout",
          "output_type": "stream",
          "text": [
            "Generation 84 - Current best internal CV score: 0.91372852899393\n"
          ]
        },
        {
          "name": "stderr",
          "output_type": "stream",
          "text": [
            "Optimization Progress:  85%|████████▌ | 8600/10100 [2:33:06<30:48,  1.23s/pipeline]  "
          ]
        },
        {
          "name": "stdout",
          "output_type": "stream",
          "text": [
            "Generation 85 - Current best internal CV score: 0.91372852899393\n"
          ]
        },
        {
          "name": "stderr",
          "output_type": "stream",
          "text": [
            "Optimization Progress:  86%|████████▌ | 8700/10100 [2:34:34<16:12,  1.44pipeline/s]"
          ]
        },
        {
          "name": "stdout",
          "output_type": "stream",
          "text": [
            "Generation 86 - Current best internal CV score: 0.91372852899393\n"
          ]
        },
        {
          "name": "stderr",
          "output_type": "stream",
          "text": [
            "Optimization Progress:  87%|████████▋ | 8800/10100 [2:35:55<20:57,  1.03pipeline/s]"
          ]
        },
        {
          "name": "stdout",
          "output_type": "stream",
          "text": [
            "Generation 87 - Current best internal CV score: 0.91372852899393\n"
          ]
        },
        {
          "name": "stderr",
          "output_type": "stream",
          "text": [
            "Optimization Progress:  88%|████████▊ | 8900/10100 [2:37:51<19:14,  1.04pipeline/s]  "
          ]
        },
        {
          "name": "stdout",
          "output_type": "stream",
          "text": [
            "Generation 88 - Current best internal CV score: 0.91372852899393\n"
          ]
        },
        {
          "name": "stderr",
          "output_type": "stream",
          "text": [
            "Optimization Progress:  89%|████████▉ | 9000/10100 [2:39:07<17:43,  1.03pipeline/s]"
          ]
        },
        {
          "name": "stdout",
          "output_type": "stream",
          "text": [
            "Generation 89 - Current best internal CV score: 0.91372852899393\n"
          ]
        },
        {
          "name": "stderr",
          "output_type": "stream",
          "text": [
            "Optimization Progress:  90%|█████████ | 9100/10100 [2:41:04<24:50,  1.49s/pipeline]  "
          ]
        },
        {
          "name": "stdout",
          "output_type": "stream",
          "text": [
            "Generation 90 - Current best internal CV score: 0.91372852899393\n"
          ]
        },
        {
          "name": "stderr",
          "output_type": "stream",
          "text": [
            "Optimization Progress:  91%|█████████ | 9200/10100 [2:42:35<17:12,  1.15s/pipeline]"
          ]
        },
        {
          "name": "stdout",
          "output_type": "stream",
          "text": [
            "Generation 91 - Current best internal CV score: 0.91372852899393\n"
          ]
        },
        {
          "name": "stderr",
          "output_type": "stream",
          "text": [
            "Optimization Progress:  92%|█████████▏| 9300/10100 [2:43:59<07:58,  1.67pipeline/s]"
          ]
        },
        {
          "name": "stdout",
          "output_type": "stream",
          "text": [
            "Generation 92 - Current best internal CV score: 0.91372852899393\n"
          ]
        },
        {
          "name": "stderr",
          "output_type": "stream",
          "text": [
            "Optimization Progress:  93%|█████████▎| 9400/10100 [2:45:21<13:33,  1.16s/pipeline]"
          ]
        },
        {
          "name": "stdout",
          "output_type": "stream",
          "text": [
            "Generation 93 - Current best internal CV score: 0.91372852899393\n"
          ]
        },
        {
          "name": "stderr",
          "output_type": "stream",
          "text": [
            "Optimization Progress:  94%|█████████▍| 9500/10100 [2:46:35<10:55,  1.09s/pipeline]"
          ]
        },
        {
          "name": "stdout",
          "output_type": "stream",
          "text": [
            "Generation 94 - Current best internal CV score: 0.91372852899393\n"
          ]
        },
        {
          "name": "stderr",
          "output_type": "stream",
          "text": [
            "Optimization Progress:  95%|█████████▌| 9600/10100 [2:48:00<06:50,  1.22pipeline/s]"
          ]
        },
        {
          "name": "stdout",
          "output_type": "stream",
          "text": [
            "Generation 95 - Current best internal CV score: 0.91372852899393\n"
          ]
        },
        {
          "name": "stderr",
          "output_type": "stream",
          "text": [
            "Optimization Progress:  96%|█████████▌| 9700/10100 [2:49:25<04:32,  1.47pipeline/s]"
          ]
        },
        {
          "name": "stdout",
          "output_type": "stream",
          "text": [
            "Generation 96 - Current best internal CV score: 0.91372852899393\n"
          ]
        },
        {
          "name": "stderr",
          "output_type": "stream",
          "text": [
            "Optimization Progress:  97%|█████████▋| 9800/10100 [2:51:08<05:09,  1.03s/pipeline]"
          ]
        },
        {
          "name": "stdout",
          "output_type": "stream",
          "text": [
            "Generation 97 - Current best internal CV score: 0.91372852899393\n"
          ]
        },
        {
          "name": "stderr",
          "output_type": "stream",
          "text": [
            "Optimization Progress:  98%|█████████▊| 9900/10100 [2:52:46<03:47,  1.14s/pipeline]"
          ]
        },
        {
          "name": "stdout",
          "output_type": "stream",
          "text": [
            "Generation 98 - Current best internal CV score: 0.91372852899393\n"
          ]
        },
        {
          "name": "stderr",
          "output_type": "stream",
          "text": [
            "Optimization Progress:  99%|█████████▉| 10000/10100 [2:54:07<01:01,  1.62pipeline/s]"
          ]
        },
        {
          "name": "stdout",
          "output_type": "stream",
          "text": [
            "Generation 99 - Current best internal CV score: 0.91372852899393\n"
          ]
        },
        {
          "name": "stderr",
          "output_type": "stream",
          "text": [
            "                                                                                    \r"
          ]
        },
        {
          "name": "stdout",
          "output_type": "stream",
          "text": [
            "Generation 100 - Current best internal CV score: 0.91372852899393\n",
            "\n",
            "Best pipeline: RandomForestClassifier(GradientBoostingClassifier(GradientBoostingClassifier(Normalizer(MaxAbsScaler(input_matrix), norm=max), learning_rate=0.001, max_depth=2, max_features=0.05, min_samples_leaf=12, min_samples_split=20, n_estimators=100, subsample=0.35000000000000003), learning_rate=0.01, max_depth=5, max_features=0.55, min_samples_leaf=15, min_samples_split=20, n_estimators=100, subsample=0.7500000000000001), bootstrap=False, criterion=entropy, max_features=0.1, min_samples_leaf=13, min_samples_split=15, n_estimators=100)\n",
            "CPU times: user 2h 40min 13s, sys: 1min 51s, total: 2h 42min 4s\n",
            "Wall time: 2h 55min 35s\n"
          ]
        },
        {
          "data": {
            "text/plain": [
              "TPOTClassifier(config_dict={'sklearn.kernel_approximation.RBFSampler': {'gamma': array([0.  , 0.05, 0.1 , 0.15, 0.2 , 0.25, 0.3 , 0.35, 0.4 , 0.45, 0.5 ,\n",
              "       0.55, 0.6 , 0.65, 0.7 , 0.75, 0.8 , 0.85, 0.9 , 0.95, 1.  ])}, 'sklearn.cluster.FeatureAgglomeration': {'linkage': ['ward', 'complete', 'average'], 'affin..., 0.6 , 0.65, 0.7 , 0.75, 0.8 , 0.85, 0.9 , 0.95, 1.  ])}, 'sklearn.preprocessing.RobustScaler': {}},\n",
              "        crossover_rate=0.1, cv=5, disable_update_check=False,\n",
              "        early_stop=None, generations=100, max_eval_time_mins=5,\n",
              "        max_time_mins=None, memory=None, mutation_rate=0.9, n_jobs=1,\n",
              "        offspring_size=100, periodic_checkpoint_folder=None,\n",
              "        population_size=100, random_state=None, scoring=None,\n",
              "        subsample=1.0, verbosity=2, warm_start=False)"
            ]
          },
          "execution_count": 96,
          "metadata": {},
          "output_type": "execute_result"
        }
      ],
      "source": [
        "%time tpot1.fit(sample_train.values, train_label)"
      ]
    },
    {
      "cell_type": "code",
      "execution_count": null,
      "metadata": {
        "scrolled": true,
        "id": "hhfiElDq37Fv",
        "outputId": "cb1fc08e-5d68-4233-f604-67f935051fd8"
      },
      "outputs": [
        {
          "name": "stdout",
          "output_type": "stream",
          "text": [
            "0.8378378378378378\n"
          ]
        },
        {
          "data": {
            "text/plain": [
              "True"
            ]
          },
          "execution_count": 97,
          "metadata": {},
          "output_type": "execute_result"
        }
      ],
      "source": [
        "print(tpot1.score(sample_val.values, val_label.values))\n",
        "tpot1.export('tpot_Binary_classification_pipeline.py')"
      ]
    },
    {
      "cell_type": "markdown",
      "source": [
        "#### References\n",
        "* https://epistasislab.github.io/tpot/"
      ],
      "metadata": {
        "id": "QJ3Rx9JL5VG9"
      }
    }
  ],
  "metadata": {
    "kernelspec": {
      "display_name": "Python 3",
      "language": "python",
      "name": "python3"
    },
    "language_info": {
      "codemirror_mode": {
        "name": "ipython",
        "version": 3
      },
      "file_extension": ".py",
      "mimetype": "text/x-python",
      "name": "python",
      "nbconvert_exporter": "python",
      "pygments_lexer": "ipython3",
      "version": "3.5.4"
    },
    "colab": {
      "provenance": []
    }
  },
  "nbformat": 4,
  "nbformat_minor": 0
}
